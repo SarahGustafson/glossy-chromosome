{
 "cells": [
  {
   "cell_type": "code",
   "execution_count": 37,
   "metadata": {
    "collapsed": true
   },
   "outputs": [],
   "source": [
    "### Import required packages\n",
    "import pandas as pd\n",
    "import numpy as np\n",
    "from sklearn import preprocessing\n",
    "import matplotlib.pyplot as plt \n",
    "plt.rc(\"font\", size=14)\n",
    "from sklearn.linear_model import LogisticRegression\n",
    "from sklearn.cross_validation import train_test_split\n",
    "import seaborn as sns\n",
    "sns.set(style=\"white\")\n",
    "sns.set(style=\"whitegrid\", color_codes=True)"
   ]
  },
  {
   "cell_type": "code",
   "execution_count": 38,
   "metadata": {},
   "outputs": [
    {
     "data": {
      "text/html": [
       "<div>\n",
       "<style>\n",
       "    .dataframe thead tr:only-child th {\n",
       "        text-align: right;\n",
       "    }\n",
       "\n",
       "    .dataframe thead th {\n",
       "        text-align: left;\n",
       "    }\n",
       "\n",
       "    .dataframe tbody tr th {\n",
       "        vertical-align: top;\n",
       "    }\n",
       "</style>\n",
       "<table border=\"1\" class=\"dataframe\">\n",
       "  <thead>\n",
       "    <tr style=\"text-align: right;\">\n",
       "      <th></th>\n",
       "      <th>Male</th>\n",
       "      <th>Parent_Apart</th>\n",
       "      <th>Medu</th>\n",
       "      <th>Fedu</th>\n",
       "      <th>studytime</th>\n",
       "      <th>Fam_Sup</th>\n",
       "      <th>Activities</th>\n",
       "      <th>College_Bound</th>\n",
       "      <th>Internet_Access</th>\n",
       "      <th>Dalc</th>\n",
       "      <th>Walc</th>\n",
       "      <th>health</th>\n",
       "      <th>absences</th>\n",
       "      <th>Final_Fail</th>\n",
       "    </tr>\n",
       "  </thead>\n",
       "  <tbody>\n",
       "    <tr>\n",
       "      <th>0</th>\n",
       "      <td>0</td>\n",
       "      <td>1</td>\n",
       "      <td>4</td>\n",
       "      <td>4</td>\n",
       "      <td>2</td>\n",
       "      <td>0</td>\n",
       "      <td>0</td>\n",
       "      <td>1</td>\n",
       "      <td>0</td>\n",
       "      <td>1</td>\n",
       "      <td>1</td>\n",
       "      <td>3</td>\n",
       "      <td>4</td>\n",
       "      <td>1</td>\n",
       "    </tr>\n",
       "    <tr>\n",
       "      <th>1</th>\n",
       "      <td>0</td>\n",
       "      <td>0</td>\n",
       "      <td>1</td>\n",
       "      <td>1</td>\n",
       "      <td>2</td>\n",
       "      <td>1</td>\n",
       "      <td>0</td>\n",
       "      <td>1</td>\n",
       "      <td>1</td>\n",
       "      <td>1</td>\n",
       "      <td>1</td>\n",
       "      <td>3</td>\n",
       "      <td>2</td>\n",
       "      <td>1</td>\n",
       "    </tr>\n",
       "    <tr>\n",
       "      <th>2</th>\n",
       "      <td>0</td>\n",
       "      <td>0</td>\n",
       "      <td>1</td>\n",
       "      <td>1</td>\n",
       "      <td>2</td>\n",
       "      <td>0</td>\n",
       "      <td>0</td>\n",
       "      <td>1</td>\n",
       "      <td>1</td>\n",
       "      <td>2</td>\n",
       "      <td>3</td>\n",
       "      <td>3</td>\n",
       "      <td>6</td>\n",
       "      <td>1</td>\n",
       "    </tr>\n",
       "    <tr>\n",
       "      <th>3</th>\n",
       "      <td>0</td>\n",
       "      <td>0</td>\n",
       "      <td>4</td>\n",
       "      <td>2</td>\n",
       "      <td>3</td>\n",
       "      <td>1</td>\n",
       "      <td>1</td>\n",
       "      <td>1</td>\n",
       "      <td>1</td>\n",
       "      <td>1</td>\n",
       "      <td>1</td>\n",
       "      <td>5</td>\n",
       "      <td>0</td>\n",
       "      <td>0</td>\n",
       "    </tr>\n",
       "    <tr>\n",
       "      <th>4</th>\n",
       "      <td>0</td>\n",
       "      <td>0</td>\n",
       "      <td>3</td>\n",
       "      <td>3</td>\n",
       "      <td>2</td>\n",
       "      <td>1</td>\n",
       "      <td>0</td>\n",
       "      <td>1</td>\n",
       "      <td>0</td>\n",
       "      <td>1</td>\n",
       "      <td>2</td>\n",
       "      <td>5</td>\n",
       "      <td>0</td>\n",
       "      <td>0</td>\n",
       "    </tr>\n",
       "  </tbody>\n",
       "</table>\n",
       "</div>"
      ],
      "text/plain": [
       "   Male  Parent_Apart  Medu  Fedu  studytime  Fam_Sup  Activities  \\\n",
       "0     0             1     4     4          2        0           0   \n",
       "1     0             0     1     1          2        1           0   \n",
       "2     0             0     1     1          2        0           0   \n",
       "3     0             0     4     2          3        1           1   \n",
       "4     0             0     3     3          2        1           0   \n",
       "\n",
       "   College_Bound  Internet_Access  Dalc  Walc  health  absences  Final_Fail  \n",
       "0              1                0     1     1       3         4           1  \n",
       "1              1                1     1     1       3         2           1  \n",
       "2              1                1     2     3       3         6           1  \n",
       "3              1                1     1     1       5         0           0  \n",
       "4              1                0     1     2       5         0           0  "
      ]
     },
     "execution_count": 38,
     "metadata": {},
     "output_type": "execute_result"
    }
   ],
   "source": [
    "### Load student pass/fail data into Pandas\n",
    "### Import raw data from GitHub\n",
    "url = 'https://raw.githubusercontent.com/sgus1318/glossy-chromosome/master/student_data2.csv'\n",
    "df = pd.read_csv(url)\n",
    "\n",
    "## View raw data\n",
    "df.head()"
   ]
  },
  {
   "cell_type": "code",
   "execution_count": 39,
   "metadata": {},
   "outputs": [
    {
     "data": {
      "text/html": [
       "<div>\n",
       "<style>\n",
       "    .dataframe thead tr:only-child th {\n",
       "        text-align: right;\n",
       "    }\n",
       "\n",
       "    .dataframe thead th {\n",
       "        text-align: left;\n",
       "    }\n",
       "\n",
       "    .dataframe tbody tr th {\n",
       "        vertical-align: top;\n",
       "    }\n",
       "</style>\n",
       "<table border=\"1\" class=\"dataframe\">\n",
       "  <thead>\n",
       "    <tr style=\"text-align: right;\">\n",
       "      <th></th>\n",
       "      <th>Male</th>\n",
       "      <th>Parent_Apart</th>\n",
       "      <th>Medu</th>\n",
       "      <th>Fedu</th>\n",
       "      <th>studytime</th>\n",
       "      <th>Fam_Sup</th>\n",
       "      <th>Activities</th>\n",
       "      <th>College_Bound</th>\n",
       "      <th>Internet_Access</th>\n",
       "      <th>Dalc</th>\n",
       "      <th>Walc</th>\n",
       "      <th>health</th>\n",
       "      <th>absences</th>\n",
       "      <th>Final_Fail</th>\n",
       "      <th>Absent_Percentage</th>\n",
       "    </tr>\n",
       "  </thead>\n",
       "  <tbody>\n",
       "    <tr>\n",
       "      <th>0</th>\n",
       "      <td>0</td>\n",
       "      <td>1</td>\n",
       "      <td>4</td>\n",
       "      <td>4</td>\n",
       "      <td>2</td>\n",
       "      <td>0</td>\n",
       "      <td>0</td>\n",
       "      <td>1</td>\n",
       "      <td>0</td>\n",
       "      <td>1</td>\n",
       "      <td>1</td>\n",
       "      <td>3</td>\n",
       "      <td>4</td>\n",
       "      <td>1</td>\n",
       "      <td>0.043011</td>\n",
       "    </tr>\n",
       "    <tr>\n",
       "      <th>1</th>\n",
       "      <td>0</td>\n",
       "      <td>0</td>\n",
       "      <td>1</td>\n",
       "      <td>1</td>\n",
       "      <td>2</td>\n",
       "      <td>1</td>\n",
       "      <td>0</td>\n",
       "      <td>1</td>\n",
       "      <td>1</td>\n",
       "      <td>1</td>\n",
       "      <td>1</td>\n",
       "      <td>3</td>\n",
       "      <td>2</td>\n",
       "      <td>1</td>\n",
       "      <td>0.021505</td>\n",
       "    </tr>\n",
       "    <tr>\n",
       "      <th>2</th>\n",
       "      <td>0</td>\n",
       "      <td>0</td>\n",
       "      <td>1</td>\n",
       "      <td>1</td>\n",
       "      <td>2</td>\n",
       "      <td>0</td>\n",
       "      <td>0</td>\n",
       "      <td>1</td>\n",
       "      <td>1</td>\n",
       "      <td>2</td>\n",
       "      <td>3</td>\n",
       "      <td>3</td>\n",
       "      <td>6</td>\n",
       "      <td>1</td>\n",
       "      <td>0.064516</td>\n",
       "    </tr>\n",
       "    <tr>\n",
       "      <th>3</th>\n",
       "      <td>0</td>\n",
       "      <td>0</td>\n",
       "      <td>4</td>\n",
       "      <td>2</td>\n",
       "      <td>3</td>\n",
       "      <td>1</td>\n",
       "      <td>1</td>\n",
       "      <td>1</td>\n",
       "      <td>1</td>\n",
       "      <td>1</td>\n",
       "      <td>1</td>\n",
       "      <td>5</td>\n",
       "      <td>0</td>\n",
       "      <td>0</td>\n",
       "      <td>0.000000</td>\n",
       "    </tr>\n",
       "    <tr>\n",
       "      <th>4</th>\n",
       "      <td>0</td>\n",
       "      <td>0</td>\n",
       "      <td>3</td>\n",
       "      <td>3</td>\n",
       "      <td>2</td>\n",
       "      <td>1</td>\n",
       "      <td>0</td>\n",
       "      <td>1</td>\n",
       "      <td>0</td>\n",
       "      <td>1</td>\n",
       "      <td>2</td>\n",
       "      <td>5</td>\n",
       "      <td>0</td>\n",
       "      <td>0</td>\n",
       "      <td>0.000000</td>\n",
       "    </tr>\n",
       "  </tbody>\n",
       "</table>\n",
       "</div>"
      ],
      "text/plain": [
       "   Male  Parent_Apart  Medu  Fedu  studytime  Fam_Sup  Activities  \\\n",
       "0     0             1     4     4          2        0           0   \n",
       "1     0             0     1     1          2        1           0   \n",
       "2     0             0     1     1          2        0           0   \n",
       "3     0             0     4     2          3        1           1   \n",
       "4     0             0     3     3          2        1           0   \n",
       "\n",
       "   College_Bound  Internet_Access  Dalc  Walc  health  absences  Final_Fail  \\\n",
       "0              1                0     1     1       3         4           1   \n",
       "1              1                1     1     1       3         2           1   \n",
       "2              1                1     2     3       3         6           1   \n",
       "3              1                1     1     1       5         0           0   \n",
       "4              1                0     1     2       5         0           0   \n",
       "\n",
       "   Absent_Percentage  \n",
       "0           0.043011  \n",
       "1           0.021505  \n",
       "2           0.064516  \n",
       "3           0.000000  \n",
       "4           0.000000  "
      ]
     },
     "execution_count": 39,
     "metadata": {},
     "output_type": "execute_result"
    }
   ],
   "source": [
    "### Write an apply function that transforms the absences column into a proportion of total schooldays (93 total days)\n",
    "def divide_by_93(x):\n",
    "    \"\"\"Divides by 93\"\"\"\"\"\n",
    "    return x/93\n",
    "df['Absent_Percentage']=df[['absences']].apply(divide_by_93)\n",
    "df.head()"
   ]
  },
  {
   "cell_type": "code",
   "execution_count": 40,
   "metadata": {},
   "outputs": [
    {
     "data": {
      "text/plain": [
       "1    373\n",
       "0    276\n",
       "Name: Final_Fail, dtype: int64"
      ]
     },
     "execution_count": 40,
     "metadata": {},
     "output_type": "execute_result"
    }
   ],
   "source": [
    "df['Final_Fail'].value_counts()"
   ]
  },
  {
   "cell_type": "code",
   "execution_count": 5,
   "metadata": {},
   "outputs": [
    {
     "data": {
      "image/png": "[encoded data removed]",
      "text/plain": [
       "<matplotlib.figure.Figure at 0x18a6cfc48d0>"
      ]
     },
     "metadata": {},
     "output_type": "display_data"
    }
   ],
   "source": [
    "sns.countplot(x='Final_Fail',data=df,palette='hls')\n",
    "plt.show()\n",
    "plt.savefig('count_plot')"
   ]
  },
  {
   "cell_type": "code",
   "execution_count": 41,
   "metadata": {},
   "outputs": [
    {
     "data": {
      "text/plain": [
       "(array([ 373.,  154.,   52.,   38.,   11.,   13.,    4.,    1.,    1.,    2.]),\n",
       " array([  0. ,   3.2,   6.4,   9.6,  12.8,  16. ,  19.2,  22.4,  25.6,\n",
       "         28.8,  32. ]),\n",
       " <a list of 10 Patch objects>)"
      ]
     },
     "execution_count": 41,
     "metadata": {},
     "output_type": "execute_result"
    },
    {
     "data": {
      "image/png": "[encoded data removed]",
      "text/plain": [
       "<matplotlib.figure.Figure at 0x18a70509e80>"
      ]
     },
     "metadata": {},
     "output_type": "display_data"
    }
   ],
   "source": [
    "plt.hist(sf['absences'])"
   ]
  },
  {
   "cell_type": "code",
   "execution_count": 42,
   "metadata": {},
   "outputs": [
    {
     "data": {
      "image/png": "[encoded data removed]",
      "text/plain": [
       "<matplotlib.figure.Figure at 0x18a6fb4da20>"
      ]
     },
     "metadata": {},
     "output_type": "display_data"
    },
    {
     "data": {
      "text/plain": [
       "<matplotlib.figure.Figure at 0x18a6fe610f0>"
      ]
     },
     "metadata": {},
     "output_type": "display_data"
    }
   ],
   "source": [
    "sns.countplot(x='health',data=df,palette='hls')\n",
    "plt.show()\n",
    "plt.savefig('health_plot')"
   ]
  },
  {
   "cell_type": "code",
   "execution_count": 43,
   "metadata": {},
   "outputs": [
    {
     "data": {
      "image/png": "[encoded data removed]",
      "text/plain": [
       "<matplotlib.figure.Figure at 0x18a70495710>"
      ]
     },
     "metadata": {},
     "output_type": "display_data"
    },
    {
     "data": {
      "text/plain": [
       "<matplotlib.figure.Figure at 0x18a70623cc0>"
      ]
     },
     "metadata": {},
     "output_type": "display_data"
    }
   ],
   "source": [
    "sns.countplot(x='Walc',data=df,palette='hls')\n",
    "plt.show()\n",
    "plt.savefig('WeeklyAlcConsumption_plot')"
   ]
  },
  {
   "cell_type": "code",
   "execution_count": 44,
   "metadata": {},
   "outputs": [
    {
     "data": {
      "text/html": [
       "<div>\n",
       "<style>\n",
       "    .dataframe thead tr:only-child th {\n",
       "        text-align: right;\n",
       "    }\n",
       "\n",
       "    .dataframe thead th {\n",
       "        text-align: left;\n",
       "    }\n",
       "\n",
       "    .dataframe tbody tr th {\n",
       "        vertical-align: top;\n",
       "    }\n",
       "</style>\n",
       "<table border=\"1\" class=\"dataframe\">\n",
       "  <thead>\n",
       "    <tr style=\"text-align: right;\">\n",
       "      <th></th>\n",
       "      <th>Male</th>\n",
       "      <th>Parent_Apart</th>\n",
       "      <th>Medu</th>\n",
       "      <th>Fedu</th>\n",
       "      <th>studytime</th>\n",
       "      <th>Fam_Sup</th>\n",
       "      <th>Activities</th>\n",
       "      <th>College_Bound</th>\n",
       "      <th>Internet_Access</th>\n",
       "      <th>Dalc</th>\n",
       "      <th>Walc</th>\n",
       "      <th>health</th>\n",
       "      <th>absences</th>\n",
       "      <th>Absent_Percentage</th>\n",
       "    </tr>\n",
       "    <tr>\n",
       "      <th>Final_Fail</th>\n",
       "      <th></th>\n",
       "      <th></th>\n",
       "      <th></th>\n",
       "      <th></th>\n",
       "      <th></th>\n",
       "      <th></th>\n",
       "      <th></th>\n",
       "      <th></th>\n",
       "      <th></th>\n",
       "      <th></th>\n",
       "      <th></th>\n",
       "      <th></th>\n",
       "      <th></th>\n",
       "      <th></th>\n",
       "    </tr>\n",
       "  </thead>\n",
       "  <tbody>\n",
       "    <tr>\n",
       "      <th>0</th>\n",
       "      <td>0.336957</td>\n",
       "      <td>0.130435</td>\n",
       "      <td>2.840580</td>\n",
       "      <td>2.557971</td>\n",
       "      <td>2.148551</td>\n",
       "      <td>0.626812</td>\n",
       "      <td>0.521739</td>\n",
       "      <td>0.992754</td>\n",
       "      <td>0.836957</td>\n",
       "      <td>1.271739</td>\n",
       "      <td>2.003623</td>\n",
       "      <td>3.318841</td>\n",
       "      <td>2.836957</td>\n",
       "      <td>0.030505</td>\n",
       "    </tr>\n",
       "    <tr>\n",
       "      <th>1</th>\n",
       "      <td>0.463807</td>\n",
       "      <td>0.117962</td>\n",
       "      <td>2.273458</td>\n",
       "      <td>2.120643</td>\n",
       "      <td>1.769437</td>\n",
       "      <td>0.603217</td>\n",
       "      <td>0.458445</td>\n",
       "      <td>0.820375</td>\n",
       "      <td>0.715818</td>\n",
       "      <td>1.672922</td>\n",
       "      <td>2.485255</td>\n",
       "      <td>3.697051</td>\n",
       "      <td>4.268097</td>\n",
       "      <td>0.045894</td>\n",
       "    </tr>\n",
       "  </tbody>\n",
       "</table>\n",
       "</div>"
      ],
      "text/plain": [
       "                Male  Parent_Apart      Medu      Fedu  studytime   Fam_Sup  \\\n",
       "Final_Fail                                                                    \n",
       "0           0.336957      0.130435  2.840580  2.557971   2.148551  0.626812   \n",
       "1           0.463807      0.117962  2.273458  2.120643   1.769437  0.603217   \n",
       "\n",
       "            Activities  College_Bound  Internet_Access      Dalc      Walc  \\\n",
       "Final_Fail                                                                   \n",
       "0             0.521739       0.992754         0.836957  1.271739  2.003623   \n",
       "1             0.458445       0.820375         0.715818  1.672922  2.485255   \n",
       "\n",
       "              health  absences  Absent_Percentage  \n",
       "Final_Fail                                         \n",
       "0           3.318841  2.836957           0.030505  \n",
       "1           3.697051  4.268097           0.045894  "
      ]
     },
     "execution_count": 44,
     "metadata": {},
     "output_type": "execute_result"
    }
   ],
   "source": [
    "###compare pass (0) and fail (1) across each variable\n",
    "\n",
    "df.groupby('Final_Fail').mean()"
   ]
  },
  {
   "cell_type": "code",
   "execution_count": 45,
   "metadata": {
    "collapsed": true
   },
   "outputs": [],
   "source": [
    "cols=[\"Male\",\"Parent_Apart\",\"Medu\",\"Fedu\",\"studytime\",\"Fam_Sup\",\"Activities\",\"College_Bound\",\"Internet_Access\",\"Dalc\",\"Walc\",\"health\",\"absences\"] \n",
    "X=df[cols]\n",
    "Y=df[\"Final_Fail\"]"
   ]
  },
  {
   "cell_type": "code",
   "execution_count": 46,
   "metadata": {},
   "outputs": [
    {
     "name": "stdout",
     "output_type": "stream",
     "text": [
      "Optimization terminated successfully.\n",
      "         Current function value: 0.578512\n",
      "         Iterations 6\n",
      "                           Logit Regression Results                           \n",
      "==============================================================================\n",
      "Dep. Variable:             Final_Fail   No. Observations:                  649\n",
      "Model:                          Logit   Df Residuals:                      636\n",
      "Method:                           MLE   Df Model:                           12\n",
      "Date:                Thu, 04 Jan 2018   Pseudo R-squ.:                  0.1517\n",
      "Time:                        17:02:05   Log-Likelihood:                -375.45\n",
      "converged:                       True   LL-Null:                       -442.58\n",
      "                                        LLR p-value:                 8.656e-23\n",
      "===================================================================================\n",
      "                      coef    std err          z      P>|z|      [0.025      0.975]\n",
      "-----------------------------------------------------------------------------------\n",
      "Male                0.4018      0.198      2.032      0.042       0.014       0.789\n",
      "Parent_Apart       -0.0645      0.269     -0.240      0.811      -0.592       0.463\n",
      "Medu               -0.2533      0.107     -2.375      0.018      -0.462      -0.044\n",
      "Fedu               -0.1160      0.105     -1.105      0.269      -0.322       0.090\n",
      "studytime          -0.1316      0.105     -1.258      0.208      -0.337       0.073\n",
      "Fam_Sup             0.3038      0.186      1.631      0.103      -0.061       0.669\n",
      "Activities         -0.0374      0.181     -0.206      0.837      -0.393       0.318\n",
      "College_Bound      -1.0292      0.317     -3.247      0.001      -1.651      -0.408\n",
      "Internet_Access    -0.3273      0.216     -1.515      0.130      -0.751       0.096\n",
      "Dalc                0.5442      0.150      3.624      0.000       0.250       0.839\n",
      "Walc                0.1104      0.091      1.210      0.226      -0.068       0.289\n",
      "health              0.2899      0.058      4.962      0.000       0.175       0.404\n",
      "absences            0.0736      0.022      3.372      0.001       0.031       0.116\n",
      "===================================================================================\n"
     ]
    }
   ],
   "source": [
    "import statsmodels.api as sm\n",
    "logit_model=sm.Logit(Y,X)\n",
    "result=logit_model.fit()\n",
    "print(result.summary())"
   ]
  },
  {
   "cell_type": "code",
   "execution_count": 47,
   "metadata": {
    "collapsed": true
   },
   "outputs": [],
   "source": [
    "###remove variables which are insignificant at the 0.05 alpha level\n",
    "\n",
    "cols2=[\"Male\",\"Medu\",\"College_Bound\",\"Dalc\",\"health\",\"absences\"] \n",
    "X=df[cols2]\n",
    "Y=df[\"Final_Fail\"]"
   ]
  },
  {
   "cell_type": "code",
   "execution_count": 48,
   "metadata": {},
   "outputs": [
    {
     "name": "stdout",
     "output_type": "stream",
     "text": [
      "Optimization terminated successfully.\n",
      "         Current function value: 0.585259\n",
      "         Iterations 6\n",
      "                           Logit Regression Results                           \n",
      "==============================================================================\n",
      "Dep. Variable:             Final_Fail   No. Observations:                  649\n",
      "Model:                          Logit   Df Residuals:                      643\n",
      "Method:                           MLE   Df Model:                            5\n",
      "Date:                Thu, 04 Jan 2018   Pseudo R-squ.:                  0.1418\n",
      "Time:                        17:02:10   Log-Likelihood:                -379.83\n",
      "converged:                       True   LL-Null:                       -442.58\n",
      "                                        LLR p-value:                 2.158e-25\n",
      "=================================================================================\n",
      "                    coef    std err          z      P>|z|      [0.025      0.975]\n",
      "---------------------------------------------------------------------------------\n",
      "Male              0.4172      0.188      2.214      0.027       0.048       0.786\n",
      "Medu             -0.3605      0.078     -4.599      0.000      -0.514      -0.207\n",
      "College_Bound    -1.2417      0.276     -4.491      0.000      -1.784      -0.700\n",
      "Dalc              0.6243      0.124      5.053      0.000       0.382       0.866\n",
      "health            0.2848      0.057      5.022      0.000       0.174       0.396\n",
      "absences          0.0739      0.021      3.488      0.000       0.032       0.115\n",
      "=================================================================================\n"
     ]
    }
   ],
   "source": [
    "### Final Model\n",
    "logit_model=sm.Logit(Y,X)\n",
    "result=logit_model.fit()\n",
    "print(result.summary())"
   ]
  },
  {
   "cell_type": "code",
   "execution_count": 49,
   "metadata": {
    "collapsed": true
   },
   "outputs": [],
   "source": [
    "## Students are less likely to fail if they're femaile, their mothers have higher education,\n",
    "## if they're intending to apply to college, if they consume less alcohol, and if they don't miss much school.\n",
    "## Interestingly, students who failed in this sample were rated as healthier than students who passed."
   ]
  },
  {
   "cell_type": "code",
   "execution_count": null,
   "metadata": {
    "collapsed": true
   },
   "outputs": [],
   "source": []
  }
 ],
 "metadata": {
  "kernelspec": {
   "display_name": "Python 3",
   "language": "python",
   "name": "python3"
  },
  "language_info": {
   "codemirror_mode": {
    "name": "ipython",
    "version": 3
   },
   "file_extension": ".py",
   "mimetype": "text/x-python",
   "name": "python",
   "nbconvert_exporter": "python",
   "pygments_lexer": "ipython3",
   "version": "3.6.1"
  }
 },
 "nbformat": 4,
 "nbformat_minor": 2
}
