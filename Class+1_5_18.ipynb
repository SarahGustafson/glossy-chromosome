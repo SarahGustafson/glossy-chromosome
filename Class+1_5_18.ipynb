{
 "cells": [
  {
   "cell_type": "code",
   "execution_count": 1,
   "metadata": {},
   "outputs": [
    {
     "name": "stdout",
     "output_type": "stream",
     "text": [
      "Hello world\n"
     ]
    }
   ],
   "source": [
    "print(\"Hello world\")"
   ]
  },
  {
   "cell_type": "code",
   "execution_count": 3,
   "metadata": {},
   "outputs": [
    {
     "name": "stdout",
     "output_type": "stream",
     "text": [
      "armbar\n"
     ]
    }
   ],
   "source": [
    "variable = \"armbar\"; print(variable)  ## \";\" is just instead of doing return.  Not very professional."
   ]
  },
  {
   "cell_type": "code",
   "execution_count": 4,
   "metadata": {},
   "outputs": [
    {
     "data": {
      "text/plain": [
       "3"
      ]
     },
     "execution_count": 4,
     "metadata": {},
     "output_type": "execute_result"
    }
   ],
   "source": [
    "1+2"
   ]
  },
  {
   "cell_type": "code",
   "execution_count": 5,
   "metadata": {},
   "outputs": [
    {
     "data": {
      "text/plain": [
       "'armbar'"
      ]
     },
     "execution_count": 5,
     "metadata": {},
     "output_type": "execute_result"
    }
   ],
   "source": [
    "\"arm\" + \"bar\"  ###concatenates"
   ]
  },
  {
   "cell_type": "code",
   "execution_count": 7,
   "metadata": {},
   "outputs": [
    {
     "name": "stdout",
     "output_type": "stream",
     "text": [
      "I don't want my belt color to be white\n",
      "I don't want my belt color to be blue\n",
      "I don't want my belt color to be orange\n",
      "The belt I want to be is black\n"
     ]
    }
   ],
   "source": [
    "belts = [\"white\", \"blue\", \"orange\",\"black\"]\n",
    "for belt in belts:\n",
    "    if \"black\" in belt:\n",
    "        print(\"The belt I want to be is\", belt)\n",
    "    else:\n",
    "        print(\"I don't want my belt color to be\", belt)"
   ]
  },
  {
   "cell_type": "code",
   "execution_count": 8,
   "metadata": {
    "collapsed": true
   },
   "outputs": [],
   "source": [
    "#split on spaces (default)\n",
    "\n",
    "sarah_string=\"Sarah Rocks\"\n"
   ]
  },
  {
   "cell_type": "code",
   "execution_count": 9,
   "metadata": {},
   "outputs": [
    {
     "data": {
      "text/plain": [
       "['Sarah', 'Rocks']"
      ]
     },
     "execution_count": 9,
     "metadata": {},
     "output_type": "execute_result"
    }
   ],
   "source": [
    "sarah_string.split()"
   ]
  },
  {
   "cell_type": "code",
   "execution_count": 10,
   "metadata": {},
   "outputs": [
    {
     "data": {
      "text/plain": [
       "'SARAH ROCKS'"
      ]
     },
     "execution_count": 10,
     "metadata": {},
     "output_type": "execute_result"
    }
   ],
   "source": [
    "sarah_string.upper()"
   ]
  },
  {
   "cell_type": "code",
   "execution_count": 11,
   "metadata": {},
   "outputs": [
    {
     "data": {
      "text/plain": [
       "'Sa'"
      ]
     },
     "execution_count": 11,
     "metadata": {},
     "output_type": "execute_result"
    }
   ],
   "source": [
    "#get the first two characters\n",
    "sarah_string[:2]"
   ]
  },
  {
   "cell_type": "code",
   "execution_count": 12,
   "metadata": {},
   "outputs": [
    {
     "data": {
      "text/plain": [
       "'rah Rocks'"
      ]
     },
     "execution_count": 12,
     "metadata": {},
     "output_type": "execute_result"
    }
   ],
   "source": [
    "#get all characters except the first two characters\n",
    "sarah_string[2:]"
   ]
  },
  {
   "cell_type": "code",
   "execution_count": 13,
   "metadata": {},
   "outputs": [
    {
     "data": {
      "text/plain": [
       "11"
      ]
     },
     "execution_count": 13,
     "metadata": {},
     "output_type": "execute_result"
    }
   ],
   "source": [
    "#get the length of the string\n",
    "len(sarah_string)"
   ]
  },
  {
   "cell_type": "code",
   "execution_count": 16,
   "metadata": {},
   "outputs": [
    {
     "data": {
      "text/plain": [
       "'I love practicing python, and Sarah Rocks'"
      ]
     },
     "execution_count": 16,
     "metadata": {},
     "output_type": "execute_result"
    }
   ],
   "source": [
    "#f-strings, helpful for sending filler emails.\n",
    "f'I love practicing python, and {sarah_string}'"
   ]
  },
  {
   "cell_type": "code",
   "execution_count": 17,
   "metadata": {},
   "outputs": [
    {
     "data": {
      "text/plain": [
       "'\\nSarah is practicing.\\nShe is typing multiple sentences.\\nShe firmly believes that Sarah Rocks.\\n'"
      ]
     },
     "execution_count": 17,
     "metadata": {},
     "output_type": "execute_result"
    }
   ],
   "source": [
    "### triple quoting\n",
    "f\"\"\"\n",
    "Sarah is practicing.\n",
    "She is typing multiple sentences.\n",
    "She firmly believes that {sarah_string}.\n",
    "\"\"\""
   ]
  },
  {
   "cell_type": "code",
   "execution_count": 19,
   "metadata": {},
   "outputs": [
    {
     "data": {
      "text/plain": [
       "' Sarah is practicing. She is typing multiple sentences. She firmly believes that Sarah Rocks. '"
      ]
     },
     "execution_count": 19,
     "metadata": {},
     "output_type": "execute_result"
    }
   ],
   "source": [
    "### triple quoting and remove line break.\n",
    "f\"\"\"\n",
    "Sarah is practicing.\n",
    "She is typing multiple sentences.\n",
    "She firmly believes that {sarah_string}.\n",
    "\"\"\".replace(\"\\n\",\" \")"
   ]
  },
  {
   "cell_type": "code",
   "execution_count": 20,
   "metadata": {
    "collapsed": true
   },
   "outputs": [],
   "source": [
    "#### lots of other stuff that is one noah's github page"
   ]
  },
  {
   "cell_type": "code",
   "execution_count": 21,
   "metadata": {},
   "outputs": [
    {
     "name": "stdout",
     "output_type": "stream",
     "text": [
      "100 is type (int)\n"
     ]
    }
   ],
   "source": [
    "number = 100\n",
    "num_type = type(number).__name__ ##double underscore\n",
    "print(f\"{number} is type ({num_type})\")"
   ]
  },
  {
   "cell_type": "code",
   "execution_count": 29,
   "metadata": {},
   "outputs": [
    {
     "data": {
      "text/plain": [
       "1.95"
      ]
     },
     "execution_count": 29,
     "metadata": {},
     "output_type": "execute_result"
    }
   ],
   "source": [
    "too_many_decimals = 1.945345345343\n",
    "round(too_many_decimals, 2)"
   ]
  },
  {
   "cell_type": "code",
   "execution_count": 30,
   "metadata": {
    "collapsed": true
   },
   "outputs": [],
   "source": [
    "## list and dictionary are very versatile"
   ]
  },
  {
   "cell_type": "code",
   "execution_count": 35,
   "metadata": {
    "collapsed": true
   },
   "outputs": [],
   "source": [
    "###Dictionaries are good at solving many problems, much like Python. \n",
    "###In the example below, info is put into a dictionary. \n",
    "###The \"key\" is the position, and the \"value\" is the player.\n",
    "\n",
    "uswnt = {\"GKs\": \"Solo\", \n",
    "               \"Defenders\": \"Sauerbraunn\", \n",
    "               \"Mids\": \"Heath\", \n",
    "               \"Strikers\": \"Morgan\"}"
   ]
  },
  {
   "cell_type": "code",
   "execution_count": 36,
   "metadata": {},
   "outputs": [
    {
     "name": "stdout",
     "output_type": "stream",
     "text": [
      "One of the best GKs on the USWNT is Solo\n",
      "One of the best Defenders on the USWNT is Sauerbraunn\n",
      "One of the best Mids on the USWNT is Heath\n",
      "One of the best Strikers on the USWNT is Morgan\n"
     ]
    }
   ],
   "source": [
    "## A common dictionary pattern is to iterate on a dictionary by using the items method. \n",
    "## In the example below the key and the value are printed:\n",
    "\n",
    "for position, player in uswnt.items():\n",
    "    print(f\"One of the best {position} on the USWNT is {player}\")"
   ]
  },
  {
   "cell_type": "code",
   "execution_count": 38,
   "metadata": {
    "collapsed": true
   },
   "outputs": [],
   "source": [
    "list_of_bjj_positions = [\"mount\", \"full-guard\", \"half-guard\", \n",
    "                         \"turtle\", \"side-control\", \"rear-mount\", \n",
    "                         \"knee-on-belly\", \"north-south\", \"open-guard\"]"
   ]
  },
  {
   "cell_type": "code",
   "execution_count": 39,
   "metadata": {},
   "outputs": [
    {
     "name": "stdout",
     "output_type": "stream",
     "text": [
      "full-guard\n",
      "half-guard\n",
      "open-guard\n"
     ]
    }
   ],
   "source": [
    "for postion in list_of_bjj_positions:\n",
    "    if \"guard\" in postion:\n",
    "        print(postion)"
   ]
  },
  {
   "cell_type": "code",
   "execution_count": 40,
   "metadata": {},
   "outputs": [
    {
     "name": "stdout",
     "output_type": "stream",
     "text": [
      "First position: ['mount']\n",
      "Last position: ['open-guard']\n",
      "First three positions: ['mount', 'full-guard', 'half-guard']\n"
     ]
    }
   ],
   "source": [
    "print(f'First position: {list_of_bjj_positions[:1]}')\n",
    "print(f'Last position: {list_of_bjj_positions[-1:]}')\n",
    "print(f'First three positions: {list_of_bjj_positions[0:3]}')"
   ]
  },
  {
   "cell_type": "code",
   "execution_count": 41,
   "metadata": {
    "collapsed": true
   },
   "outputs": [],
   "source": [
    "####  PRACTICE WRITING FUNCTIONS!!!!\n",
    "\n",
    "def practice(times):\n",
    "    print(f\"I like to practice python {times} times a day\")"
   ]
  },
  {
   "cell_type": "code",
   "execution_count": 42,
   "metadata": {},
   "outputs": [
    {
     "name": "stdout",
     "output_type": "stream",
     "text": [
      "I like to practice python 3 times a day\n"
     ]
    }
   ],
   "source": [
    "practice(3)"
   ]
  },
  {
   "cell_type": "code",
   "execution_count": 43,
   "metadata": {
    "collapsed": true
   },
   "outputs": [],
   "source": [
    "### This writes what shows up when you do sf_func?\n",
    "\n",
    "def sg_func():\n",
    "    \"\"\"This function returns the name of my favorite animal\"\"\"\n",
    "    return \"dog\""
   ]
  },
  {
   "cell_type": "code",
   "execution_count": 44,
   "metadata": {},
   "outputs": [
    {
     "data": {
      "text/plain": [
       "'dog'"
      ]
     },
     "execution_count": 44,
     "metadata": {},
     "output_type": "execute_result"
    }
   ],
   "source": [
    "sg_func()"
   ]
  },
  {
   "cell_type": "code",
   "execution_count": 45,
   "metadata": {
    "collapsed": true
   },
   "outputs": [],
   "source": [
    "sg_func?"
   ]
  },
  {
   "cell_type": "code",
   "execution_count": 46,
   "metadata": {
    "collapsed": true
   },
   "outputs": [],
   "source": [
    "def practice(name,times):\n",
    "    print(f\"{name} likes to practice python {times} times a day\")"
   ]
  },
  {
   "cell_type": "code",
   "execution_count": 48,
   "metadata": {},
   "outputs": [
    {
     "name": "stdout",
     "output_type": "stream",
     "text": [
      "Sarah likes to practice python 5 times a day\n"
     ]
    }
   ],
   "source": [
    "practice(\"Sarah\",5)"
   ]
  },
  {
   "cell_type": "code",
   "execution_count": 49,
   "metadata": {
    "collapsed": true
   },
   "outputs": [],
   "source": [
    "### Generator is really powerful. Generators yield an items at a time."
   ]
  },
  {
   "cell_type": "code",
   "execution_count": 50,
   "metadata": {
    "collapsed": true
   },
   "outputs": [],
   "source": [
    "### Will run forever, but only has the potential to run forever.\n",
    "\n",
    "### I am confused"
   ]
  },
  {
   "cell_type": "code",
   "execution_count": null,
   "metadata": {
    "collapsed": true
   },
   "outputs": [],
   "source": [
    "def lazy_return_random_numbers():\n",
    "    \"\"\"Yield numbers 1-10 each time\"\"\"\n",
    "    import random\n",
    "    attacks = {\"kimura\": \"upper_body\",\n",
    "           \"straight_ankle_lock\":\"lower_body\", \n",
    "           \"arm_triangle\":\"upper_body\",\n",
    "            \"keylock\": \"upper_body\",\n",
    "            \"knee_bar\": \"lower_body\"}\n",
    "    while True:\n",
    "        random_attack = random.choices(list(attacks.keys()))\n",
    "        yield random_attack"
   ]
  }
 ],
 "metadata": {
  "kernelspec": {
   "display_name": "Python 3",
   "language": "python",
   "name": "python3"
  },
  "language_info": {
   "codemirror_mode": {
    "name": "ipython",
    "version": 3
   },
   "file_extension": ".py",
   "mimetype": "text/x-python",
   "name": "python",
   "nbconvert_exporter": "python",
   "pygments_lexer": "ipython3",
   "version": "3.6.1"
  }
 },
 "nbformat": 4,
 "nbformat_minor": 2
}
