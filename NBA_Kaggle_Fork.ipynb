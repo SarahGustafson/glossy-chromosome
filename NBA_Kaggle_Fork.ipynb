{
  "cells": [
    {
      "metadata": {
        "_cell_guid": "2d0cb978-6fa6-4d8a-9fae-f593731434d3",
        "_uuid": "bef5caed3a27080a1986405d97b1d5cebabc240b",
        "_execution_state": "idle"
      },
      "cell_type": "markdown",
      "source": "# Exploration of NBA Salary, Performance, and Social Media Presence <br>\nThis is my addition to the analyses conducted by Noah Gift.  Thanks for aggregating all of the data for us!  All the heavy lifting was already done. "
    },
    {
      "metadata": {
        "_cell_guid": "52aa3b2a-3d9a-4aa8-990d-9d44d07e59b1",
        "_uuid": "94d601496cb8f7ec92d519c2e35cb3187a70fdf4"
      },
      "cell_type": "markdown",
      "source": "### **Contents**\n1. [Import Data & Python Packages](#1-bullet) <br>\n2. [Aggregate Player Stats Data](#2-bullet)<br>\n3. [EDA](#3-bullet)<br>\n    * [3.1 EDA- Correlation Heatmap](#3.1-bullet) <br>\n    * [3.2 Salary By Position](#3.2-bullet) <br>    \n    * [3.3 Salary By Team](#3.3-bullet) <br>\n    * [3.4 Salary vs Age](#3.4-bullet) <br>\n    * [3.5 Salary vs Wins_RPM](#3.5-bullet) <br>\n    * [3.6 Salary vs Minutes Played](#3.6-bullet) <br>\n    * [3.7 Salary vs PPG](#3.7-bullet) <br>\n    * [3.8 Offensive Rebounds and Steals](#3.8-bullet) <br>\n4. [Incorporate Wikipedia Page Views & Twitter Following](#4-bullet)\n   * [4.1 Numbers of Letters in Name](#4.1-bullet) <br>\n   * [4.2 EDA- Correlation Heatmap](#4.2-bullet) <br>"
    },
    {
      "metadata": {
        "_cell_guid": "7357a03d-317b-4694-a68c-2e4fff40ac45",
        "_uuid": "44ef2c669205f98cfd88ccac90574b48526b2f07"
      },
      "cell_type": "markdown",
      "source": "## 1. Import Data & Python Packages <a class=\"anchor\" id=\"1-bullet\"></a>"
    },
    {
      "metadata": {
        "_cell_guid": "cd3d25dd-7b26-4027-99f0-1b1a57871b4b",
        "_uuid": "d2e772d31b3e5e2590ffe0fcd4bff03b5066eaf1",
        "_execution_state": "idle",
        "collapsed": true,
        "trusted": false
      },
      "cell_type": "code",
      "source": "import numpy as np \nimport pandas as pd \n\nimport statsmodels.api as sm\nimport statsmodels.formula.api as smf\nfrom sklearn.cluster import KMeans\n\nimport matplotlib.pyplot as plt\n\nfrom sklearn import preprocessing\nimport matplotlib.pyplot as plt \nplt.rc(\"font\", size=14)\nimport seaborn as sns\nsns.set(style=\"white\") #white background style for seaborn plots\nsns.set(style=\"whitegrid\", color_codes=True)",
      "execution_count": null,
      "outputs": []
    },
    {
      "metadata": {
        "_cell_guid": "d771d830-b718-46fb-a092-8e4c89f82ae9",
        "_uuid": "bcfe4b9b7ba95c3eeffaa497c40827abb3cd88fd"
      },
      "cell_type": "markdown",
      "source": "## 2. Aggregate Player Stats Data <a class=\"anchor\" id=\"2-bullet\"></a>"
    },
    {
      "metadata": {
        "_cell_guid": "1c238a88-1bb3-4030-8b3e-c12816e22eb7",
        "_uuid": "b8124a26a90759e84ff8438da528db76625943fb",
        "_execution_state": "idle",
        "collapsed": true,
        "trusted": false
      },
      "cell_type": "code",
      "source": "attendance_valuation_elo_df = pd.read_csv(\"../input/nba_2017_att_val_elo.csv\")\nattendance_valuation_elo_df.head()",
      "execution_count": null,
      "outputs": []
    },
    {
      "metadata": {
        "_cell_guid": "efddec2b-7e08-4121-98bc-e09e3b6cc280",
        "_uuid": "0971e725f7d30ab4129031cacb580fbb745f6bda",
        "_execution_state": "idle",
        "collapsed": true,
        "trusted": false
      },
      "cell_type": "code",
      "source": "salary_df = pd.read_csv(\"../input/nba_2017_salary.csv\")\nsalary_df.head()",
      "execution_count": null,
      "outputs": []
    },
    {
      "metadata": {
        "_cell_guid": "15e968a7-8188-4f91-975d-3374f0bf6458",
        "_uuid": "66be1d941240fa990df9b054e33d88f84d77a324",
        "_execution_state": "idle",
        "collapsed": true,
        "trusted": false
      },
      "cell_type": "code",
      "source": "pie_df = pd.read_csv(\"../input/nba_2017_pie.csv\")\npie_df.head()",
      "execution_count": null,
      "outputs": []
    },
    {
      "metadata": {
        "_cell_guid": "af22ab07-4a24-42d5-bd5b-12e189bafcdb",
        "_uuid": "a795ce93ab4d021661bef0b29121f3ed4e93a08b",
        "collapsed": true,
        "trusted": false
      },
      "cell_type": "code",
      "source": "list(pie_df)",
      "execution_count": null,
      "outputs": []
    },
    {
      "metadata": {
        "_cell_guid": "49bc4837-d5f4-41e4-b3bb-a0e51a352f0e",
        "_uuid": "16654f89549539568018e54e884d2025ddb1465b",
        "_execution_state": "idle",
        "collapsed": true,
        "trusted": false
      },
      "cell_type": "code",
      "source": "plus_minus_df = pd.read_csv(\"../input/nba_2017_real_plus_minus.csv\")\nplus_minus_df.head()",
      "execution_count": null,
      "outputs": []
    },
    {
      "metadata": {
        "_cell_guid": "f68c2d6b-1921-4b51-81c8-47efbcea2a44",
        "_uuid": "b625e2f1f0cb6e07ae15e5dcf707b13774506d32",
        "_execution_state": "idle",
        "collapsed": true,
        "trusted": false
      },
      "cell_type": "code",
      "source": "br_stats_df = pd.read_csv(\"../input/nba_2017_br.csv\")\nbr_stats_df.head()",
      "execution_count": null,
      "outputs": []
    },
    {
      "metadata": {
        "_cell_guid": "5ef3856b-c55b-4967-866b-cd1cf230751d",
        "_uuid": "deb126ba20e1d6569faa622fe7244fc40be5883f",
        "collapsed": true,
        "trusted": false
      },
      "cell_type": "code",
      "source": "list(br_stats_df)",
      "execution_count": null,
      "outputs": []
    },
    {
      "metadata": {
        "_cell_guid": "d3f2c447-2376-47b6-969f-2662d7666d14",
        "_uuid": "1c86dea6bb3bb5f3c59dbc329eaddb7998a9b4f8",
        "_execution_state": "idle",
        "collapsed": true,
        "trusted": false
      },
      "cell_type": "code",
      "source": "### Remove Position Abbreviation from Name Field \n\nplus_minus_df.rename(columns={\"NAME\":\"PLAYER\", \"WINS\": \"WINS_RPM\"}, inplace=True)\nplayers = []\nfor player in plus_minus_df[\"PLAYER\"]:\n    plyr, _ = player.split(\",\")\n    players.append(plyr)\nplus_minus_df.drop([\"PLAYER\"], inplace=True, axis=1)\nplus_minus_df[\"PLAYER\"] = players\nplus_minus_df.head()",
      "execution_count": null,
      "outputs": []
    },
    {
      "metadata": {
        "_cell_guid": "a633d0ba-d0c4-4b19-befc-cb69fac6ca8f",
        "_uuid": "f5e22b38e218af1188376d517287d67f4548ffb2",
        "_execution_state": "idle",
        "collapsed": true,
        "trusted": false
      },
      "cell_type": "code",
      "source": "nba_players_df = br_stats_df.copy()\nnba_players_df.rename(columns={'Player': 'PLAYER','Pos':'POSITION', 'Tm': \"TEAM\", 'Age': 'AGE', \"PS/G\": \"POINTS\"}, inplace=True)\nnba_players_df.drop([\"G\", \"GS\", \"TEAM\"], inplace=True, axis=1)\nnba_players_df = nba_players_df.merge(plus_minus_df, how=\"inner\", on=\"PLAYER\")\nnba_players_df.head()",
      "execution_count": null,
      "outputs": []
    },
    {
      "metadata": {
        "_cell_guid": "ceed86fe-7513-4515-a2fc-6fa102af8e93",
        "_uuid": "79d5eb953faaf5c006a5b58d37308fc4207a8a36",
        "_execution_state": "idle",
        "collapsed": true,
        "trusted": false
      },
      "cell_type": "code",
      "source": "pie_df_subset = pie_df[[\"PLAYER\", \"PIE\", \"PACE\", \"W\"]].copy()\nnba_players_df = nba_players_df.merge(pie_df_subset, how=\"inner\", on=\"PLAYER\")\nnba_players_df.head()",
      "execution_count": null,
      "outputs": []
    },
    {
      "metadata": {
        "_cell_guid": "776e3bc6-0ccb-454e-89e2-40390f2ae0a7",
        "_uuid": "24389104968385909fc9d18dc23a5c7ff25fe358",
        "_execution_state": "idle",
        "collapsed": true,
        "trusted": false
      },
      "cell_type": "code",
      "source": "salary_df.rename(columns={'NAME': 'PLAYER'}, inplace=True)\nsalary_df[\"SALARY_MILLIONS\"] = round(salary_df[\"SALARY\"]/1000000, 2)\nsalary_df.drop([\"POSITION\",\"TEAM\", \"SALARY\"], inplace=True, axis=1)\nsalary_df.head()",
      "execution_count": null,
      "outputs": []
    },
    {
      "metadata": {
        "_cell_guid": "32ec1a27-9d05-4f0f-91db-13c8b764bc70",
        "_uuid": "9d3e18d8724aae678a447c1090f298f5831a306d",
        "_execution_state": "idle",
        "collapsed": true,
        "trusted": false
      },
      "cell_type": "code",
      "source": "diff = list(set(nba_players_df[\"PLAYER\"].values.tolist()) - set(salary_df[\"PLAYER\"].values.tolist()))\nlen(diff)",
      "execution_count": null,
      "outputs": []
    },
    {
      "metadata": {
        "_cell_guid": "2d88673d-6653-4852-92a4-542a1f0c2f7a",
        "_uuid": "a86c21eba856123f8eb20df989882b84caab13d0"
      },
      "cell_type": "markdown",
      "source": "**111 is almost a quarter of the total values.  Imputing this many entries could skew our model results and give us inaccurate out of sample testing results.   We'll just remove the players without salary data from our final dataframe.**"
    },
    {
      "metadata": {
        "_cell_guid": "bf5efa62-7e48-4811-84a5-ed77417263c0",
        "_uuid": "74ea75d72c6cb0cabf2c9bdeb7636dfff00793e9",
        "_execution_state": "idle",
        "collapsed": true,
        "trusted": false
      },
      "cell_type": "code",
      "source": "nba_players_with_salary_df = nba_players_df.merge(salary_df)",
      "execution_count": null,
      "outputs": []
    },
    {
      "metadata": {
        "_cell_guid": "3272cca9-4f40-4baa-aab0-c87cd135cc27",
        "_uuid": "0695da983632a14390adc6f558b046ac6fc60032",
        "collapsed": true,
        "trusted": false
      },
      "cell_type": "code",
      "source": "nba_players_with_salary_df.isnull().sum()",
      "execution_count": null,
      "outputs": []
    },
    {
      "metadata": {
        "_cell_guid": "e7e07bc2-b115-4406-b6dc-c8d59d0d38d3",
        "_uuid": "8452ae48868f9c6fc12a7da758b8c10335273a9e"
      },
      "cell_type": "markdown",
      "source": "## 3. Exploratory Data Analysis <a class=\"anchor\" id=\"3-bullet\"></a>"
    },
    {
      "metadata": {
        "_cell_guid": "077dade4-7f5d-4205-b749-7ef6148acfaa",
        "_uuid": "fd2e8f646e249fdfd6aac24043c70f872146497c"
      },
      "cell_type": "markdown",
      "source": "## 3.1 EDA: Correlation Heatmap <a class=\"anchor\" id=\"3.1-bullet\"></a>"
    },
    {
      "metadata": {
        "_cell_guid": "143c94d0-5aa0-4fd7-86c0-fbdb0b23a7b4",
        "_uuid": "d239ec863fc5bb49b320a9a275293a701339fe2f",
        "_execution_state": "idle",
        "collapsed": true,
        "trusted": false
      },
      "cell_type": "code",
      "source": "plt.subplots(figsize=(20,15))\nax = plt.axes()\nax.set_title(\"NBA Player Correlation Heatmap:  2016-2017 Season (STATS & SALARY)\")\ncorr = nba_players_with_salary_df.corr()\nsns.heatmap(corr, \n            xticklabels=corr.columns.values,\n            yticklabels=corr.columns.values,\n           cmap=\"Blues\")",
      "execution_count": null,
      "outputs": []
    },
    {
      "metadata": {
        "_cell_guid": "828665b0-6ddb-4c29-bd50-a27b4ad57718",
        "_uuid": "1350fa9004aa8ad7a72395249f1aa3ac558fe422"
      },
      "cell_type": "markdown",
      "source": "[https://matplotlib.org/examples/color/colormaps_reference.html](http://)"
    },
    {
      "metadata": {
        "_cell_guid": "3bed43c5-b7f1-49d6-b552-734a223b6f32",
        "_uuid": "c58ab752a5067b5b1ba0e4d5eef6a4916e24dd1b"
      },
      "cell_type": "markdown",
      "source": "## 3.2 Salary by Position <a class=\"anchor\" id=\"3.2-bullet\"></a>"
    },
    {
      "metadata": {
        "_cell_guid": "98b49e30-4452-4dfe-9529-c49f248d9be6",
        "_uuid": "aa2f0d27cfb38b589e4e25e927605b8349c666c0",
        "collapsed": true,
        "trusted": false
      },
      "cell_type": "code",
      "source": "print(set(nba_players_with_salary_df[\"POSITION\"]))",
      "execution_count": null,
      "outputs": []
    },
    {
      "metadata": {
        "_cell_guid": "161d986b-5fc8-4400-9247-bb181d7beb97",
        "_uuid": "25538ad2f1dec7ba56fc313f1ef2eba8e14a4a9d",
        "collapsed": true,
        "trusted": false
      },
      "cell_type": "code",
      "source": "sal_SF = nba_players_with_salary_df.loc[nba_players_with_salary_df.POSITION==\"SF\",\"SALARY_MILLIONS\"]\nsal_SG = nba_players_with_salary_df.loc[nba_players_with_salary_df.POSITION==\"SG\",\"SALARY_MILLIONS\"]\nsal_C = nba_players_with_salary_df.loc[nba_players_with_salary_df.POSITION==\"C\",\"SALARY_MILLIONS\"]\nsal_PFC = nba_players_with_salary_df.loc[nba_players_with_salary_df.POSITION==\"PFC\",\"SALARY_MILLIONS\"]\nsal_PF = nba_players_with_salary_df.loc[nba_players_with_salary_df.POSITION==\"PF\",\"SALARY_MILLIONS\"]\nsal_PG = nba_players_with_salary_df.loc[nba_players_with_salary_df.POSITION==\"PG\",\"SALARY_MILLIONS\"]",
      "execution_count": null,
      "outputs": []
    },
    {
      "metadata": {
        "_cell_guid": "4a59a887-cdb7-4e82-a069-fd993ab1d9e6",
        "_uuid": "6c1480d0f11e58c1032a5b9d385a752ae31f4d7e"
      },
      "cell_type": "markdown",
      "source": "First, how many per each position?"
    },
    {
      "metadata": {
        "_cell_guid": "0229c00f-8b95-4cbb-bd91-58e7a9c874b7",
        "_uuid": "4c50083ccd7b40a200eafccd4f7a21f3f4e2c69b",
        "collapsed": true,
        "trusted": false
      },
      "cell_type": "code",
      "source": "sns.countplot(x='POSITION',data=nba_players_with_salary_df, palette=\"Set2\")\nplt.show()",
      "execution_count": null,
      "outputs": []
    },
    {
      "metadata": {
        "_cell_guid": "b0111ff1-6c8a-4242-97f8-0b2c0888751f",
        "_uuid": "d59b455a8cd8e5870b836060259541331bd6fd84",
        "collapsed": true,
        "trusted": false
      },
      "cell_type": "code",
      "source": "plt.figure(figsize=(15,8))\nsns.kdeplot(sal_SF, color=\"darkturquoise\", shade=False)\nsns.kdeplot(sal_SG, color=\"lightcoral\", shade=False)\nsns.kdeplot(sal_C, color=\"forestgreen\", shade=False)\nsns.kdeplot(sal_PFC, color=\"dimgray\", shade=False)\nsns.kdeplot(sal_PF, color=\"gold\", shade=False)\nsns.kdeplot(sal_PF, color=\"darkorchid\", shade=False)\nsns.kdeplot(sal_PG, color=\"maroon\", shade=False)\nplt.legend(['SF', 'SG', 'C', 'PF-C', 'PF', 'PG'])\nplt.title('Density Plot of Salary by Position')\nplt.show()",
      "execution_count": null,
      "outputs": []
    },
    {
      "metadata": {
        "_cell_guid": "2a60fb77-e985-4078-b44b-0558ab3df145",
        "_uuid": "c16a4a25e99db6cc6c22ffd54554496bba1cd5c6"
      },
      "cell_type": "markdown",
      "source": "The distribution of salary is pretty consistent across most positions.  A few noteable differences include that Centers and Small Forwards are slightly more right skewed (a higher proportion make a high salary) than other positions.  Small Guards appear the least right skewed.  Let's look at the box-and-whisker plots to see the comparison more clearly."
    },
    {
      "metadata": {
        "_cell_guid": "7af4632b-4e27-45d3-93b6-352718a7ac4b",
        "_uuid": "28972322c6a8b8dab7d1e63270938c7c9d20e5f4",
        "collapsed": true,
        "trusted": false
      },
      "cell_type": "code",
      "source": "plt.figure(figsize=(10,8))\nsns.boxplot(x=\"SALARY_MILLIONS\", y=\"POSITION\",data=nba_players_with_salary_df, orient=\"h\",palette=\"Set2\")\nplt.show()",
      "execution_count": null,
      "outputs": []
    },
    {
      "metadata": {
        "_cell_guid": "091c9ea9-9965-4435-bbc6-8d9948abf130",
        "_uuid": "22c8440608416485d40a62843c8285c468640dd9"
      },
      "cell_type": "markdown",
      "source": "## 3.3 Salary by team <a class=\"anchor\" id=\"3.3-bullet\"></a>"
    },
    {
      "metadata": {
        "_cell_guid": "f3c3141d-043b-41a8-b905-f4d842a82bc8",
        "_uuid": "c230bd46dab3befd709a202f7b218f4b1a3d802c",
        "collapsed": true,
        "trusted": false
      },
      "cell_type": "code",
      "source": "print(set(nba_players_with_salary_df[\"TEAM\"]))",
      "execution_count": null,
      "outputs": []
    },
    {
      "metadata": {
        "_cell_guid": "d7bd350b-9710-417f-a778-c42b4618f04c",
        "_uuid": "1da79ec640fb86db86606fa90c14efd5d0dbf52c",
        "collapsed": true,
        "trusted": false
      },
      "cell_type": "code",
      "source": "plt.figure(figsize=(8,15))\nsns.boxplot(x=\"SALARY_MILLIONS\", y=\"TEAM\",data=nba_players_with_salary_df, orient=\"h\")\nplt.show()",
      "execution_count": null,
      "outputs": []
    },
    {
      "metadata": {
        "_cell_guid": "79d1eed4-a94f-4393-b9d5-cd0348ffcf38",
        "_uuid": "e25a747d177d12b5e2b427e5d2b894fed78cfc9a"
      },
      "cell_type": "markdown",
      "source": "## 3.4 Salary vs. Age <a class=\"anchor\" id=\"3.4-bullet\"></a>"
    },
    {
      "metadata": {
        "_cell_guid": "d517dbbc-49ee-4d42-ae4a-241050600bf2",
        "_uuid": "418b2168a09c8b66f9dcc40d6f8a1ccf293ef112",
        "collapsed": true,
        "trusted": false
      },
      "cell_type": "code",
      "source": "sns.kdeplot(nba_players_with_salary_df[\"AGE\"], color=\"mediumpurple\", shade=True)\nplt.show()",
      "execution_count": null,
      "outputs": []
    },
    {
      "metadata": {
        "_cell_guid": "06992ec7-33b5-48de-813d-0d118f4443a6",
        "_uuid": "c5c134753807e21c762da1398730c5a48659a5c6",
        "collapsed": true,
        "trusted": false
      },
      "cell_type": "code",
      "source": "sns.lmplot(x=\"AGE\", y=\"SALARY_MILLIONS\", data=nba_players_with_salary_df)\nplt.show()",
      "execution_count": null,
      "outputs": []
    },
    {
      "metadata": {
        "_cell_guid": "6f704b44-b85c-478d-b17d-67846df4d787",
        "_uuid": "8098d0f37682f1b23765fed84f68ea4ae8ddb09c",
        "collapsed": true,
        "trusted": false
      },
      "cell_type": "code",
      "source": "results1 = smf.ols('SALARY_MILLIONS ~ AGE', data=nba_players_with_salary_df).fit()\nprint(results1.summary())",
      "execution_count": null,
      "outputs": []
    },
    {
      "metadata": {
        "_cell_guid": "169a109d-47f5-4d22-af36-9793a4184e5d",
        "_uuid": "6058f49b51f58f4340b87c9a255b91321d50e11d"
      },
      "cell_type": "markdown",
      "source": "### Interpretation:"
    },
    {
      "metadata": {
        "_cell_guid": "d6f794f1-1d97-4355-b1e0-51d0d3432644",
        "_uuid": "866bad6a86ad88c664d2df3996786f17cd4a11d2"
      },
      "cell_type": "markdown",
      "source": "## 3.5 Salary vs. Wins RPM <a class=\"anchor\" id=\"3.5-bullet\"></a>"
    },
    {
      "metadata": {
        "_cell_guid": "991af08e-b756-44ca-871b-bdd37540810a",
        "_uuid": "0dd67153a4315444e9f50037caffd1d67c7fc5cd",
        "collapsed": true,
        "trusted": false
      },
      "cell_type": "code",
      "source": "sns.kdeplot(nba_players_with_salary_df[\"WINS_RPM\"], color=\"darkmagenta\", shade=True)\nplt.show()",
      "execution_count": null,
      "outputs": []
    },
    {
      "metadata": {
        "_cell_guid": "b684a0f2-cad0-4876-8893-b7e2bd0585f6",
        "_uuid": "eaacf610e4a90c4aab11deb4f32ad4a544284ff9",
        "_execution_state": "idle",
        "collapsed": true,
        "trusted": false
      },
      "cell_type": "code",
      "source": "sns.lmplot(x=\"WINS_RPM\", y=\"SALARY_MILLIONS\", data=nba_players_with_salary_df)\nplt.show()",
      "execution_count": null,
      "outputs": []
    },
    {
      "metadata": {
        "_cell_guid": "a4aa6e94-cdaf-4007-94ae-12fce233a9d1",
        "_uuid": "c4262c46c3a6c141e50e42cbee956235e0b8ecb0",
        "collapsed": true,
        "trusted": false
      },
      "cell_type": "code",
      "source": "results2 = smf.ols('SALARY_MILLIONS ~ WINS_RPM', data=nba_players_with_salary_df).fit()\nprint(results2.summary())",
      "execution_count": null,
      "outputs": []
    },
    {
      "metadata": {
        "_cell_guid": "b606a8dc-a2c0-42f1-a0c0-ab6fc881f034",
        "_uuid": "7c1e9766a0dbe6df089913fcc9a4269ad6bd1124"
      },
      "cell_type": "markdown",
      "source": "### Interpretation:"
    },
    {
      "metadata": {
        "_cell_guid": "c8b2fd17-f1e9-47dc-a927-2c59a1969320",
        "_uuid": "07fa10b43f0d49098cb2cabef1e841778355c701"
      },
      "cell_type": "markdown",
      "source": "## 3.6 Salary vs. Minutes Played Per Game <a class=\"anchor\" id=\"3.6-bullet\"></a>"
    },
    {
      "metadata": {
        "_cell_guid": "047772ec-1cee-46b3-b54a-9fa517045764",
        "_uuid": "3bf331c3a0e7c0ebca2ae1d81d78cddd18b63a4a",
        "collapsed": true,
        "trusted": false
      },
      "cell_type": "code",
      "source": "sns.kdeplot(nba_players_with_salary_df[\"MPG\"], color=\"dodgerblue\", shade=True)\nplt.show()",
      "execution_count": null,
      "outputs": []
    },
    {
      "metadata": {
        "_cell_guid": "776394ac-1288-40df-a026-f259cb7b8dee",
        "_uuid": "05aca44e02cff5fa55b27de6892acf0ac38c9ff9",
        "collapsed": true,
        "trusted": false
      },
      "cell_type": "code",
      "source": "sns.lmplot(x=\"MPG\", y=\"SALARY_MILLIONS\", data=nba_players_with_salary_df)\nplt.show()",
      "execution_count": null,
      "outputs": []
    },
    {
      "metadata": {
        "_cell_guid": "3dd3077c-94a9-4cbd-9432-b9e76aa134e5",
        "_uuid": "fed84a1c0a9b27309bbd7476785a140082fd8537",
        "collapsed": true,
        "trusted": false
      },
      "cell_type": "code",
      "source": "results3 = smf.ols('SALARY_MILLIONS ~ MPG', data=nba_players_with_salary_df).fit()\nprint(results3.summary())",
      "execution_count": null,
      "outputs": []
    },
    {
      "metadata": {
        "_cell_guid": "9b2db5cb-67f2-4ce8-8848-226146965f92",
        "_uuid": "2422da8fd50342fd6698eb1499c9c8098b6333ae"
      },
      "cell_type": "markdown",
      "source": "## 3.7 Salary vs. Points Per Game <a class=\"anchor\" id=\"3.7-bullet\"></a>"
    },
    {
      "metadata": {
        "_cell_guid": "2e4f3515-806c-4f78-83ec-b3bed1c3bb6a",
        "_uuid": "c1a4425044bb2e7e3982743d964afe47e4ea208c",
        "collapsed": true,
        "trusted": false
      },
      "cell_type": "code",
      "source": "sns.kdeplot(nba_players_with_salary_df[\"POINTS\"], color=\"darkturquoise\", shade=True)\nplt.show()",
      "execution_count": null,
      "outputs": []
    },
    {
      "metadata": {
        "_cell_guid": "9aae913e-9ba1-42ee-a593-4165451bd00a",
        "_uuid": "b9ab9b8f4b0b00afb2a7e24194985ffa36e18ba4",
        "collapsed": true,
        "trusted": false
      },
      "cell_type": "code",
      "source": "sns.lmplot(x=\"POINTS\", y=\"SALARY_MILLIONS\", data=nba_players_with_salary_df)\nplt.show()",
      "execution_count": null,
      "outputs": []
    },
    {
      "metadata": {
        "_cell_guid": "7a9441ff-6300-45e8-8edf-ecddfb8829f6",
        "_uuid": "b86d3e38b4bfd6628f9ae073c1ca374c3af8f6fb",
        "collapsed": true,
        "trusted": false
      },
      "cell_type": "code",
      "source": "results4 = smf.ols('SALARY_MILLIONS ~ POINTS', data=nba_players_with_salary_df).fit()\nprint(results4.summary())",
      "execution_count": null,
      "outputs": []
    },
    {
      "metadata": {
        "_cell_guid": "6d92a675-7bf2-4c69-952a-79fc6b957b7c",
        "_uuid": "f15ee2a69cc7af4774dfc49ea1f316ce3fbfdc20"
      },
      "cell_type": "markdown",
      "source": "## 3.8 Offensive Rebounds and Steals <a class=\"anchor\" id=\"3.8-bullet\"></a>"
    },
    {
      "metadata": {
        "_cell_guid": "811b6885-ebef-47ca-868f-0ff9db0244a4",
        "_uuid": "0fe64750d46dd006e33a8aa3244620c27342015e"
      },
      "cell_type": "markdown",
      "source": "By looking at our heatmap, we can see that there are several fields where there is a noticeable difference in correlation for a particular variable vs. Salary as compared to that variable vs. Wins_RPM.   Just based on the visual, the two most apparent differences are for offensive rebounds and steals."
    },
    {
      "metadata": {
        "_cell_guid": "97316d8a-12bf-4c99-8890-c9dd1defb815",
        "_uuid": "7958248bc1284ba458eb680915db2ba4b50caa23",
        "collapsed": true,
        "trusted": false
      },
      "cell_type": "code",
      "source": "from pydoc import help\nfrom scipy.stats.stats import pearsonr",
      "execution_count": null,
      "outputs": []
    },
    {
      "metadata": {
        "_cell_guid": "70d6282f-12dd-47d9-9ac0-578f43bc0898",
        "_uuid": "299ca8274fae8b0ad42f04911d771dd403c2a23e",
        "collapsed": true,
        "trusted": false
      },
      "cell_type": "code",
      "source": "pearsonr(nba_players_with_salary_df[\"ORB\"], nba_players_with_salary_df[\"SALARY_MILLIONS\"])\n## Returns the Pearson's correlation coefficient and the 2-tailed p-value",
      "execution_count": null,
      "outputs": []
    },
    {
      "metadata": {
        "_cell_guid": "a5c310c6-463b-4eab-a00e-21ce7dd59839",
        "_uuid": "da92eef3172272cc4dda6a9ee8f54076c4dddd28",
        "collapsed": true,
        "trusted": false
      },
      "cell_type": "code",
      "source": "pearsonr(nba_players_with_salary_df[\"ORB\"], nba_players_with_salary_df[\"WINS_RPM\"])",
      "execution_count": null,
      "outputs": []
    },
    {
      "metadata": {
        "_cell_guid": "c7cf7e71-a413-4f5a-afb8-26d0d4bedd4a",
        "_uuid": "4f7f6038c681969f9875b2e10de787a668a93627"
      },
      "cell_type": "markdown",
      "source": "<div>\n<div class=\"alert alert-block alert-success\">\n### There is a stronger correlation between Offensive Rebounds and WINS_RPM than there is between Offensive Rebounds and Salary.  <br> <br> \n### Offensive Rebounds vs. Salary --> 0.265 <br>\n### Offensive Rebounds vs. Wins_RPM --> 0.376\n<br>\n### This might mean that players who are strong on the offensive glass are more valuable to their franchise than their salary indicates.  They're helping their team win more games, as measured by WINS_RPM, than their salary reflects."
    },
    {
      "metadata": {
        "_cell_guid": "0d4c80ef-4ca5-48ea-a04b-c646595b5a51",
        "_uuid": "911c66049b8d57b43b00bd751604cd8f284f5679",
        "collapsed": true,
        "trusted": false
      },
      "cell_type": "code",
      "source": "pearsonr(nba_players_with_salary_df[\"STL\"], nba_players_with_salary_df[\"SALARY_MILLIONS\"])",
      "execution_count": null,
      "outputs": []
    },
    {
      "metadata": {
        "_cell_guid": "f3bcff90-e120-486d-b603-b1a9a05854c3",
        "_uuid": "d42003801ecb3be5e16b63284c43345aa5a6e2a0",
        "collapsed": true,
        "trusted": false
      },
      "cell_type": "code",
      "source": "pearsonr(nba_players_with_salary_df[\"STL\"], nba_players_with_salary_df[\"WINS_RPM\"])",
      "execution_count": null,
      "outputs": []
    },
    {
      "metadata": {
        "_cell_guid": "c302da99-fc9f-4fc8-aa3b-124904f37f75",
        "_uuid": "dd2b43c66852cec8a5e4b75093e6dd3d01564321"
      },
      "cell_type": "markdown",
      "source": "<div>\n<div class=\"alert alert-block alert-success\">\n### Similarly, number of steals is a stronger predictor of a player's WINS_RPM than it is for Salary.  If franchises want to reward players for their contribution to wins, they might want to do better at rewarding players who make more steals.  <br>\n### Steals vs. Salary --> 0.447 <br>\n### Steals vs. Wins_RPM --> 0.672"
    },
    {
      "metadata": {
        "_cell_guid": "b5fd16df-16a3-4538-9d44-9f4922b0de1e",
        "_uuid": "af539384fd51616aa5c2d13dc6f11c2fb2a5f953"
      },
      "cell_type": "markdown",
      "source": "## 4. Wikipedia Page Views & Twitter Following <a class=\"anchor\" id=\"4-bullet\"></a>"
    },
    {
      "metadata": {
        "_cell_guid": "c6c9fdd3-9b61-4a06-8d17-ce89d118dd74",
        "_uuid": "52c51f963a34e5f51773e4a5aca47b7477aaf203",
        "_execution_state": "idle",
        "collapsed": true,
        "trusted": false
      },
      "cell_type": "code",
      "source": "from ggplot import *",
      "execution_count": null,
      "outputs": []
    },
    {
      "metadata": {
        "_cell_guid": "9364b196-4bce-40f0-bb16-be69415b578b",
        "_uuid": "71e467b9c31b20ee9b6bff91da2c16d875a099b8",
        "_execution_state": "idle",
        "collapsed": true,
        "trusted": false
      },
      "cell_type": "code",
      "source": "p = ggplot(nba_players_with_salary_df,aes(x=\"POINTS\", y=\"WINS_RPM\", color=\"SALARY_MILLIONS\")) + geom_point(size=200)\np + xlab(\"POINTS/GAME\") + ylab(\"WINS/RPM\") + ggtitle(\"NBA Players 2016-2017:  POINTS/GAME, WINS REAL PLUS MINUS and SALARY\")",
      "execution_count": null,
      "outputs": []
    },
    {
      "metadata": {
        "_cell_guid": "6a80041e-aee8-474c-871c-600a99b20522",
        "_uuid": "713a64d0e1b6281d96954104580cd2a76fb5bb36",
        "_execution_state": "idle",
        "collapsed": true,
        "trusted": false
      },
      "cell_type": "code",
      "source": "wiki_df = pd.read_csv(\"../input/nba_2017_player_wikipedia.csv\");wiki_df.head()\n",
      "execution_count": null,
      "outputs": []
    },
    {
      "metadata": {
        "_cell_guid": "92d67cec-0275-42a0-b007-df736fb09aed",
        "_uuid": "44a69072586aee96ae3bcdc286a48f246e471ddf",
        "_execution_state": "idle",
        "collapsed": true,
        "trusted": false
      },
      "cell_type": "code",
      "source": "wiki_df.rename(columns={'names': 'PLAYER', \"pageviews\": \"PAGEVIEWS\"}, inplace=True)",
      "execution_count": null,
      "outputs": []
    },
    {
      "metadata": {
        "_cell_guid": "7d693e02-c2a0-4276-a5ce-7de19b5047c1",
        "_uuid": "32835011aff38d26fe73382fd2c4a47ef16f9932",
        "_execution_state": "idle",
        "collapsed": true,
        "trusted": false
      },
      "cell_type": "code",
      "source": "median_wiki_df = wiki_df.groupby(\"PLAYER\").median()\nmedian_wiki_df_small = median_wiki_df[[\"PAGEVIEWS\"]]\nmedian_wiki_df_small = median_wiki_df_small.reset_index()\nnba_players_with_salary_wiki_df = nba_players_with_salary_df.merge(median_wiki_df_small)",
      "execution_count": null,
      "outputs": []
    },
    {
      "metadata": {
        "_cell_guid": "b316e195-97a4-472c-a1d4-342834ca9b03",
        "_uuid": "cb31e25d087d621fe36ca8b30cc8f75b3cb64e37",
        "_execution_state": "idle",
        "collapsed": true,
        "trusted": false
      },
      "cell_type": "code",
      "source": "twitter_df = pd.read_csv(\"../input/nba_2017_twitter_players.csv\");twitter_df.head()",
      "execution_count": null,
      "outputs": []
    },
    {
      "metadata": {
        "_cell_guid": "a8c02b40-7482-4bb1-af23-dd9d9b6c1151",
        "_uuid": "f191d512b7ba18f2b8dbed42aaa2c898a475ed23",
        "_execution_state": "idle",
        "collapsed": true,
        "trusted": false
      },
      "cell_type": "code",
      "source": "nba_players_with_salary_wiki_twitter_df = nba_players_with_salary_wiki_df.merge(twitter_df)",
      "execution_count": null,
      "outputs": []
    },
    {
      "metadata": {
        "_cell_guid": "5a9ae545-fcb6-49d2-ac56-4989f003f7a0",
        "_uuid": "296021c5d3605754ea9e875bb5e94942f30bc6b9"
      },
      "cell_type": "markdown",
      "source": "## 4.1 Name Length vs. Page Views <a class=\"anchor\" id=\"4.1-bullet\"></a>"
    },
    {
      "metadata": {
        "_cell_guid": "0f1eefb6-2fb9-4db5-9751-515ddd6cb87a",
        "_uuid": "96e0e92680414b907ecc01cbd758879a4075e998"
      },
      "cell_type": "markdown",
      "source": "### Adding in a \"name length\" variable (hypothesis- people don't want to type and search for long names)"
    },
    {
      "metadata": {
        "_cell_guid": "68af66f0-5246-4adb-8d59-62f0a488ddf0",
        "_uuid": "6d6fe797edc177cb7bd085c4ff90136cfa43d94d",
        "collapsed": true,
        "trusted": false
      },
      "cell_type": "code",
      "source": "nba_players_with_salary_wiki_twitter_df['name_length']=nba_players_with_salary_wiki_twitter_df['PLAYER'].str.len()",
      "execution_count": null,
      "outputs": []
    },
    {
      "metadata": {
        "_cell_guid": "0f68c5ab-6f51-4125-9328-dc36ca0eee3f",
        "_uuid": "06cf2a49cb5dd1e6f6006b046daaff537689d733",
        "collapsed": true,
        "trusted": false
      },
      "cell_type": "code",
      "source": "nba_players_with_salary_wiki_twitter_df.head()",
      "execution_count": null,
      "outputs": []
    },
    {
      "metadata": {
        "_cell_guid": "8d0ee3fe-48c8-40b6-bb7e-820b7923476f",
        "_uuid": "1cceea501da324c5cd9f6cbb54abc9d5be31afd5",
        "collapsed": true,
        "trusted": false
      },
      "cell_type": "code",
      "source": "sns.lmplot(x=\"name_length\", y=\"PAGEVIEWS\", data=nba_players_with_salary_wiki_twitter_df)\nplt.show()",
      "execution_count": null,
      "outputs": []
    },
    {
      "metadata": {
        "_cell_guid": "875d38b8-37a4-4aea-97fb-b11d46dadbc5",
        "_uuid": "1ab2098de88a6b8b6af71599aff7220f1d5e199a",
        "collapsed": true,
        "trusted": false
      },
      "cell_type": "code",
      "source": "results_name = smf.ols('PAGEVIEWS ~ name_length', data=nba_players_with_salary_wiki_twitter_df).fit()\nprint(results_name.summary())",
      "execution_count": null,
      "outputs": []
    },
    {
      "metadata": {
        "_cell_guid": "56890f90-dff9-4f3e-acf0-f1d2bce2d385",
        "_uuid": "854ff38a95ea2a88de1abff71e68930e572ca055"
      },
      "cell_type": "markdown",
      "source": "### Nope. No visible relationship."
    },
    {
      "metadata": {
        "_cell_guid": "f30cbd98-84cc-4015-bed8-571ebcc149c7",
        "_uuid": "5b6ae2644f29ef686cb5cb43338da00f53833e0c"
      },
      "cell_type": "markdown",
      "source": "## 4.2 EDA- Correlation Heatmap (Page views, Twitter, & Player Stats) <a class=\"anchor\" id=\"4.2-bullet\"></a>"
    },
    {
      "metadata": {
        "_cell_guid": "65ef2195-e914-4d09-a159-b400ef39bab0",
        "_uuid": "18a92c6b1d8c974e6142d012d0af3a4edd57a293",
        "_execution_state": "idle",
        "collapsed": true,
        "trusted": false
      },
      "cell_type": "code",
      "source": "plt.subplots(figsize=(20,15))\nax = plt.axes()\nax.set_title(\"NBA Player Correlation Heatmap:  2016-2017 Season (STATS & SALARY & TWITTER & WIKIPEDIA)\")\ncorr = nba_players_with_salary_wiki_twitter_df.corr()\nsns.heatmap(corr, \n            xticklabels=corr.columns.values,\n            yticklabels=corr.columns.values,\n           cmap=\"Blues\")\nplt.show()",
      "execution_count": null,
      "outputs": []
    },
    {
      "metadata": {
        "_cell_guid": "440ab637-d59e-487a-bca7-77b3921f5f46",
        "_uuid": "0d294cee4c45adb46a21ff9b7c11fedd58a7c0b8",
        "_execution_state": "idle",
        "collapsed": true,
        "trusted": false
      },
      "cell_type": "code",
      "source": "",
      "execution_count": null,
      "outputs": []
    }
  ],
  "metadata": {
    "kernelspec": {
      "display_name": "Python 3",
      "language": "python",
      "name": "python3"
    },
    "language_info": {
      "pygments_lexer": "ipython3",
      "name": "python",
      "file_extension": ".py",
      "version": "3.6.4",
      "nbconvert_exporter": "python",
      "codemirror_mode": {
        "name": "ipython",
        "version": 3
      },
      "mimetype": "text/x-python"
    }
  },
  "nbformat": 4,
  "nbformat_minor": 1
}