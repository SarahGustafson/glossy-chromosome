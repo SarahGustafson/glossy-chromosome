{
 "cells": [
  {
   "cell_type": "markdown",
   "metadata": {},
   "source": [
    "# Homework 3\n",
    "### Sarah Gustafson, May 13th 2018\n",
    "____________________________________________________________________________________________________________________________"
   ]
  },
  {
   "cell_type": "markdown",
   "metadata": {},
   "source": [
    "## Part I"
   ]
  },
  {
   "cell_type": "markdown",
   "metadata": {},
   "source": [
    "### 1. Use Amazon book reviews (text documents) dataset (small dataset with 10 reviews)."
   ]
  },
  {
   "cell_type": "code",
   "execution_count": 1,
   "metadata": {
    "collapsed": true
   },
   "outputs": [],
   "source": [
    "import numpy as np\n",
    "import pandas as pd"
   ]
  },
  {
   "cell_type": "code",
   "execution_count": 28,
   "metadata": {},
   "outputs": [
    {
     "data": {
      "text/html": [
       "<div>\n",
       "<style>\n",
       "    .dataframe thead tr:only-child th {\n",
       "        text-align: right;\n",
       "    }\n",
       "\n",
       "    .dataframe thead th {\n",
       "        text-align: left;\n",
       "    }\n",
       "\n",
       "    .dataframe tbody tr th {\n",
       "        vertical-align: top;\n",
       "    }\n",
       "</style>\n",
       "<table border=\"1\" class=\"dataframe\">\n",
       "  <thead>\n",
       "    <tr style=\"text-align: right;\">\n",
       "      <th></th>\n",
       "      <th>0</th>\n",
       "      <th>1</th>\n",
       "    </tr>\n",
       "  </thead>\n",
       "  <tbody>\n",
       "    <tr>\n",
       "      <th>0</th>\n",
       "      <td>2</td>\n",
       "      <td>Ok~ but I think the Keirsey Temperment Test is...</td>\n",
       "    </tr>\n",
       "    <tr>\n",
       "      <th>1</th>\n",
       "      <td>2</td>\n",
       "      <td>Repellent Sale of Conservativism  The fatalist...</td>\n",
       "    </tr>\n",
       "    <tr>\n",
       "      <th>2</th>\n",
       "      <td>1</td>\n",
       "      <td>I had a bad feeling about this!  And I was rig...</td>\n",
       "    </tr>\n",
       "    <tr>\n",
       "      <th>3</th>\n",
       "      <td>2</td>\n",
       "      <td>Lost Credability, QUICKLY!!  I admit, I haven'...</td>\n",
       "    </tr>\n",
       "    <tr>\n",
       "      <th>4</th>\n",
       "      <td>2</td>\n",
       "      <td>Poorly written  I tried reading this book but ...</td>\n",
       "    </tr>\n",
       "    <tr>\n",
       "      <th>5</th>\n",
       "      <td>2</td>\n",
       "      <td>The book felt more like the author was forced ...</td>\n",
       "    </tr>\n",
       "    <tr>\n",
       "      <th>6</th>\n",
       "      <td>1</td>\n",
       "      <td>The Islamo-Fascists Murderers thank Professor ...</td>\n",
       "    </tr>\n",
       "    <tr>\n",
       "      <th>7</th>\n",
       "      <td>2</td>\n",
       "      <td>Stranded on an Island  I have been a fan of Su...</td>\n",
       "    </tr>\n",
       "    <tr>\n",
       "      <th>8</th>\n",
       "      <td>2</td>\n",
       "      <td>Another self-indulgent Heinlein novel  Heinlei...</td>\n",
       "    </tr>\n",
       "    <tr>\n",
       "      <th>9</th>\n",
       "      <td>2</td>\n",
       "      <td>Beautiful Beginning / Painful (illogical) Endi...</td>\n",
       "    </tr>\n",
       "  </tbody>\n",
       "</table>\n",
       "</div>"
      ],
      "text/plain": [
       "   0                                                  1\n",
       "0  2  Ok~ but I think the Keirsey Temperment Test is...\n",
       "1  2  Repellent Sale of Conservativism  The fatalist...\n",
       "2  1  I had a bad feeling about this!  And I was rig...\n",
       "3  2  Lost Credability, QUICKLY!!  I admit, I haven'...\n",
       "4  2  Poorly written  I tried reading this book but ...\n",
       "5  2  The book felt more like the author was forced ...\n",
       "6  1  The Islamo-Fascists Murderers thank Professor ...\n",
       "7  2  Stranded on an Island  I have been a fan of Su...\n",
       "8  2  Another self-indulgent Heinlein novel  Heinlei...\n",
       "9  2  Beautiful Beginning / Painful (illogical) Endi..."
      ]
     },
     "execution_count": 28,
     "metadata": {},
     "output_type": "execute_result"
    }
   ],
   "source": [
    "url = 'https://raw.githubusercontent.com/sgus1318/glossy-chromosome/master/Small-Book%20Reviews%20from%20Amazon.csv'\n",
    "data = pd.read_csv(url,header=None)\n",
    "data"
   ]
  },
  {
   "cell_type": "markdown",
   "metadata": {},
   "source": [
    "### 2. Use Bag of Words (BoW) and TF-IDF (CountVectorizer and TfidfVectorizer in scikit-learn)."
   ]
  },
  {
   "cell_type": "markdown",
   "metadata": {},
   "source": [
    "#### 2a. Bag of Words"
   ]
  },
  {
   "cell_type": "code",
   "execution_count": 3,
   "metadata": {},
   "outputs": [],
   "source": [
    "import numpy as np\n",
    "import pandas as pd\n",
    "from sklearn.feature_extraction.text import TfidfVectorizer\n",
    "from sklearn.feature_extraction.text import CountVectorizer"
   ]
  },
  {
   "cell_type": "markdown",
   "metadata": {},
   "source": [
    "BoW representation is implemented in CountVectorizer."
   ]
  },
  {
   "cell_type": "code",
   "execution_count": 4,
   "metadata": {},
   "outputs": [],
   "source": [
    "vect = CountVectorizer()"
   ]
  },
  {
   "cell_type": "markdown",
   "metadata": {},
   "source": [
    "Fitting the CountVectorizer does the following: 1) tokenizing and 2) building the vocabulary. Vocabulary can be accessed through the vocabulary_ attribute."
   ]
  },
  {
   "cell_type": "code",
   "execution_count": 5,
   "metadata": {
    "collapsed": true
   },
   "outputs": [],
   "source": [
    "corpus=data[1]\n",
    "bag = vect.fit_transform(corpus)"
   ]
  },
  {
   "cell_type": "code",
   "execution_count": 6,
   "metadata": {},
   "outputs": [
    {
     "name": "stdout",
     "output_type": "stream",
     "text": [
      "904\n"
     ]
    }
   ],
   "source": [
    "print(len(vect.vocabulary_))"
   ]
  },
  {
   "cell_type": "code",
   "execution_count": 7,
   "metadata": {},
   "outputs": [
    {
     "name": "stdout",
     "output_type": "stream",
     "text": [
      "{'ok': 552, 'but': 116, 'think': 792, 'the': 782, 'keirsey': 436, 'temperment': 774, 'test': 777, 'is': 417, 'more': 508, 'accurate': 16, 'and': 47, 'cheaper': 135, 'this': 794, 'book': 108, 'has': 352, 'its': 425, 'good': 335, 'points': 593, 'if': 386, 'anything': 54, 'it': 424, 'helps': 361, 'you': 899, 'put': 623, 'into': 410, 'words': 884, 'what': 862, 'want': 847, 'from': 318, 'supervisor': 753, 'not': 540, 'very': 840, 'online': 556, 'does': 217, 'account': 15, 'for': 303, 'difference': 205, 'between': 98, 'when': 863, 'of': 549, 'their': 783, 'options': 560, 'are': 58, 'both': 110, 'exactly': 257, 'like': 462, 'or': 561, 'they': 789, 'don': 223, 'describe': 195, 'at': 65, 'all': 33, 'messes': 496, 'up': 833, 'results': 667, 'did': 203, 'me': 490, 'well': 860, 'am': 40, 'just': 433, 'in': 392, 'denial': 192, 'have': 355, 'taken': 765, 'lot': 472, 'personality': 586, 'type': 821, 'tests': 778, 'sorter': 716, 'pretty': 607, 'idea': 383, 'my': 517, 'strengths': 743, 'so': 710, 'although': 37, 'making': 482, 'understand': 825, 'importance': 389, 'incouraging': 395, 'your': 901, 'still': 737, 'leaves': 454, 'wondering': 882, 'about': 11, 'how': 380, 'fit': 301, 'to': 807, 'terminology': 775, 'as': 63, 'using': 836, 'manager': 484, 'better': 97, 'serve': 696, 'employees': 239, 'seen': 690, 'done': 224, 'necessarily': 526, 'work': 885, 'because': 82, 'spit': 726, 'out': 570, 'people': 583, 'were': 861, 'wholly': 869, 'company': 157, 'most': 509, 'who': 868, 'shifted': 700, 'around': 61, 'according': 14, 'unhappy': 828, 'new': 530, 'positions': 599, 'money': 506, 'can': 121, 'be': 78, 'spent': 724, 'elsewhere': 237, 'say': 685, 'only': 557, 'worth': 889, '10': 0, 'repellent': 661, 'sale': 681, 'conservativism': 167, 'fatalistic': 283, 'view': 841, 'expressed': 266, 'by': 117, 'kirk': 438, 'even': 254, 'before': 86, 'first': 300, 'chapter': 132, 'concludes': 164, 'he': 358, 'states': 732, 'edmund': 235, 'burke': 114, 'could': 178, 'see': 686, 'our': 569, 'century': 127, 'never': 529, 'would': 890, 'concede': 163, 'that': 781, 'consumption': 169, 'society': 712, 'near': 525, 'suicide': 750, 'end': 241, 'which': 864, 'providence': 618, 'prepared': 604, 'man': 483, 'wait': 846, 'conservative': 165, 'mind': 499, 'was': 854, 'published': 620, '1953': 4, 'mythical': 521, 'golden': 334, 'age': 29, 'america': 41, 'with': 875, 'ward': 850, 'june': 432, 'cleaver': 152, 'normal': 536, 'rockwell': 675, 'meanwhile': 492, 'contemporary': 171, '18th': 3, 'pining': 590, '14th': 2, 'depressing': 193, 'ideology': 385, 'we': 857, 'always': 39, 'live': 467, 'worst': 888, 'times': 805, 'there': 787, 'certain': 128, 'ideological': 384, 'threads': 799, 'carry': 124, 'throughout': 803, 'including': 394, 'belief': 92, 'stratification': 742, 'voting': 844, 'should': 702, 'privilege': 612, 'small': 709, 'minority': 503, 'rather': 637, 'than': 779, 'universal': 830, 'democracy': 191, 'saw': 684, 'contributing': 174, 'degradation': 190, 'writes': 894, 'men': 493, 'really': 644, 'seeking': 688, 'ought': 568, 'seek': 687, 'right': 671, 'govern': 337, 'themselves': 785, 'governed': 338, 'offers': 550, 'lack': 441, 'true': 814, 'representation': 662, 'author': 70, 'pines': 589, 'days': 184, 'aristocrat': 59, 'defines': 188, 'elites': 236, 'wealth': 858, 'intellect': 404, 'lineage': 464, 'clearly': 151, 'includes': 393, 'race': 631, 'gender': 324, 'surprising': 760, 'lauds': 446, 'some': 713, 'racists': 634, 'american': 42, 'history': 372, 'nathanial': 523, 'bedford': 84, 'forrest': 310, 'whom': 870, 'describes': 196, 'magnificent': 478, 'quoting': 630, 'his': 371, 'racist': 633, 'vitriol': 843, 'particularly': 581, 'galling': 322, 'move': 511, 'referrers': 651, 'pro': 613, 'slavery': 708, 'advocate': 25, 'john': 429, 'calhoun': 118, 'defender': 187, 'minorities': 502, 'praises': 602, 'randolph': 635, 'among': 43, 'other': 565, 'things': 791, 'opposing': 559, 'doctrines': 216, 'racial': 632, 'equality': 250, 'goes': 333, 'on': 554, 'support': 754, 'rights': 672, 'extended': 268, 'southern': 720, 'supported': 755, 'fugitive': 321, 'slave': 707, 'act': 17, 'forced': 305, 'federal': 286, 'officials': 551, 'law': 447, 'northern': 538, 'return': 669, 'runaway': 677, 'under': 823, 'penalty': 582, '1000': 1, 'fine': 297, 'laws': 448, 'make': 480, 'illegal': 387, 'northerners': 539, 'protest': 617, 'nothing': 541, 'self': 692, 'serving': 697, 'attempt': 67, 'keep': 435, 'safe': 679, 'shows': 703, 'own': 576, 'stripes': 744, 'refers': 652, 'anti': 52, 'agitation': 30, 'supports': 756, 'choosing': 140, 'preservation': 605, 'over': 573, 'liberty': 460, 'an': 44, 'extremely': 269, 'warped': 851, 'one': 555, 'wonders': 883, 'fathom': 284, 'supreme': 758, 'irony': 415, 'stating': 733, 'mounted': 510, 'strong': 745, 'against': 28, 'domination': 222, 'class': 149, 'region': 654, 'another': 51, 'thread': 798, 'desire': 199, 'reunification': 670, 'church': 143, 'state': 731, 'duty': 230, 'unclean': 822, 'masses': 488, 'line': 463, 'samuel': 683, 'coleridge': 155, 'makes': 481, 'clear': 150, 'truth': 816, 'falsity': 275, 'irrelevant': 416, 'institution': 403, 'must': 516, 'preserved': 606, 'primary': 610, 'means': 491, 'social': 711, 'control': 175, 'sounding': 718, 'inspiration': 401, 'disgraced': 213, 'chief': 137, 'justice': 434, 'roy': 676, 'moore': 507, 'russell': 678, 'urges': 834, 'separate': 695, 'entities': 249, 'religion': 656, 'merely': 494, 'expression': 267, 'national': 524, 'spirit': 725, 'rises': 673, 'far': 280, 'superior': 752, 'earthly': 234, 'being': 91, 'indeed': 397, 'source': 719, 'sees': 691, 'faulty': 285, 'god': 332, 'draws': 227, 'distinction': 214, 'wonder': 880, 'modern': 504, 'reconstructionist': 650, 'wanted': 848, 'leviticus': 459, 'imposed': 390, 'executing': 259, 'homosexuals': 375, 'blasphemers': 103, 'explains': 264, 'might': 497, 'recognize': 647, 'besides': 96, 'prejudice': 603, 'third': 793, 'intellectual': 405, 'perhaps': 584, 'stupid': 746, 'stance': 728, 'human': 381, 'reason': 645, 'puny': 621, 'impotent': 391, 'claims': 147, 'find': 296, 'tradition': 809, 'ready': 642, 'application': 56, 'emergency': 238, 'previously': 608, 'engages': 244, 'steady': 736, 'course': 180, 'wisdom': 874, 'virtue': 842, 'leave': 453, 'hesitating': 365, 'moment': 505, 'decision': 186, 'skeptical': 706, 'puzzled': 624, 'unresolved': 831, 'actually': 19, 'advocating': 26, 'general': 325, 'population': 597, 'turn': 819, 'rational': 638, 'thought': 796, 'those': 795, 'higher': 368, 'chain': 130, 'citizens': 145, 'encouraged': 240, 'exhibit': 261, 'awe': 73, 'veneration': 839, 'stations': 734, 'authority': 71, 'order': 562, 'grab': 339, 'fleece': 302, 'populism': 598, 'conservatives': 166, 'lately': 444, 'had': 349, 'abandon': 9, 'overt': 575, 'certainly': 129, 'evident': 256, 'remains': 658, 'complete': 160, 'fa': 270, 'ade': 20, 'found': 312, 'salesmanship': 682, 'generally': 326, 'recommend': 648, 'fairly': 273, 'enlightening': 246, 'continues': 173, 'thrive': 800, 'day': 183, 'bad': 75, 'feeling': 288, 'intrigued': 411, 'title': 806, 'supposedly': 757, 'links': 465, 'jedi': 426, 'christianity': 142, 'after': 27, '60': 8, 'pages': 577, 'got': 336, 'staub': 735, 'trying': 817, 'wrap': 892, 'christian': 141, 'cloth': 154, 'failing': 272, 'speaks': 723, 'difficulty': 207, 'leading': 450, 'life': 461, 'any': 53, 'religious': 657, 'islam': 418, 'otherwise': 567, 'hard': 351, 'turns': 820, 'back': 74, 'norm': 535, 'conventional': 176, 'convinced': 177, 'yoda': 898, 'zen': 903, 'master': 489, 'force': 304, 'derived': 194, 'tao': 767, 'interpreted': 409, 'orthodox': 564, 'purposefully': 622, 'leaving': 455, 'mysticism': 520, 'beast': 79, 'altogether': 38, 'subject': 747, 'theology': 786, 'star': 729, 'wars': 853, 'dharma': 202, 'lost': 471, 'credability': 182, 'quickly': 627, 'admit': 21, 'haven': 356, 'finished': 298, 'friend': 315, 'recommended': 649, 'been': 85, 'having': 357, 'problems': 614, 'insomnia': 400, 'interested': 407, 'reading': 640, 'women': 879, 'health': 359, 'issues': 423, 'sounded': 717, 'intriguing': 412, 'until': 832, 'she': 699, 'started': 730, 'her': 363, 'tarot': 768, 'cards': 123, 'interest': 406, 'astrology': 64, 'angels': 48, 'granted': 341, 'firm': 299, 'believer': 94, 'facts': 271, 'believe': 93, 'woman': 878, 'common': 156, 'sense': 694, 'isn': 421, 'alternative': 36, 'enough': 247, 'poorly': 596, 'written': 895, 'tried': 812, 'turgid': 818, 'down': 225, 'frustration': 320, 'reads': 641, 'translation': 810, 'language': 442, 'academic': 12, 'bureacrat': 113, 'theme': 784, 'interesting': 408, 'execution': 260, 'poor': 595, 'cannot': 122, 'felt': 290, 'write': 893, 'why': 871, 'ever': 255, 'time': 804, 'something': 714, 'usually': 838, 'wonderful': 881, 'quinn': 628, 'trilogy': 813, 'fans': 279, 'begged': 88, 'nora': 534, 'roberts': 674, 'seth': 698, 'story': 740, 'journeyed': 431, 'through': 802, 'him': 369, 'fall': 274, 'love': 474, 'repeatedly': 660, 'said': 680, 'us': 835, 'kept': 437, 'begging': 89, 'excited': 258, 'finally': 295, 'gave': 323, 'wrote': 896, 'chesapeake': 136, 'blue': 105, 'know': 439, 'grateful': 342, 'wasn': 855, 'fellow': 289, 'nr': 547, 'friends': 316, 'heroine': 364, 'aubrey': 69, 'beautiful': 81, 'friendship': 317, 'expected': 262, 'open': 558, 'loved': 475, 'anna': 49, 'grace': 340, 'sybill': 763, 'dru': 228, 'whitcomb': 867, 'banks': 77, 'completely': 161, 'let': 458, 'whine': 865, 'complain': 159, 'minor': 501, 'compared': 158, 'cam': 119, 'ethan': 252, 'philip': 588, 'experienced': 263, 'children': 138, 'becoming': 83, 'artist': 62, 'surprise': 759, 'too': 808, 'join': 430, 'family': 277, 'business': 115, 'design': 198, 'boats': 106, 'gloria': 331, 'blackmailing': 102, 'thin': 790, 'plotline': 592, 'no': 532, 'contact': 170, 'considering': 168, 'warrents': 852, 'wouldn': 891, 'tell': 773, 'brothers': 112, 'wives': 877, 'worked': 886, 'away': 72, 'closed': 153, 'vowing': 845, 'request': 663, 'beg': 87, 'petition': 587, 'get': 327, 'islamo': 419, 'fascists': 282, 'murderers': 514, 'thank': 780, 'professor': 615, 'chomsky': 139, 'noam': 533, 'thrived': 801, 'greatly': 344, 'great': 343, 'country': 179, 'yours': 902, 'mine': 500, 'united': 829, 'made': 477, 'millions': 498, 'dollars': 220, 'teaching': 770, 'lecturing': 456, 'selling': 693, 'books': 109, 'investing': 413, 'world': 887, 'wide': 872, 'fame': 276, 'psycholinguistics': 619, 'deserved': 197, 'infamy': 399, 'merited': 495, 'loyalty': 476, 'jewish': 428, 'ethnicity': 253, 'spite': 727, 'fruits': 319, 'received': 646, 'citizen': 144, 'repaid': 659, 'bile': 101, 'incredibly': 396, 'biased': 100, 'analysis': 45, 'foreign': 307, 'policy': 594, 'way': 856, 'beyond': 99, 'balanced': 76, 'multiculturism': 513, 'ranks': 636, 'israel': 422, 'foremost': 308, 'terrorist': 776, 'forces': 306, 'now': 545, 'distrust': 215, 'benign': 95, 'reflected': 653, 'dogmatic': 218, 'unexamined': 826, 'underdog': 824, 'bomber': 107, 'major': 479, 'organization': 563, 'such': 748, 'al': 31, 'queda': 625, 'hezbollah': 366, 'yet': 897, 'since': 705, '1955': 5, 'hypocrite': 382, 'overdog': 574, 'massachusetts': 487, 'institute': 402, 'technology': 772, 'actively': 18, 'enthusiastically': 248, 'participated': 580, 'development': 201, 'weapons': 859, 'war': 849, 'mass': 486, 'destruction': 200, 'trumps': 815, 'potential': 600, 'gifted': 328, 'analytic': 46, 'objectivity': 548, 'simple': 704, 'hatred': 354, 'attached': 66, 'freedom': 314, 'earning': 233, 'adulation': 23, 'left': 457, 'express': 265, 'himself': 370, 'able': 10, 'give': 330, 'direct': 209, 'personal': 585, 'enemies': 243, 'taking': 766, 'residence': 665, 'north': 537, 'korea': 440, 'iran': 414, 'syria': 764, 'hope': 377, 'retires': 668, 'outside': 572, 'homeland': 374, 'hates': 353, 'much': 512, 'bless': 104, 'will': 873, 'continue': 172, 'speak': 722, 'teach': 769, 'lots': 473, 'raybo': 639, 'stranded': 741, 'island': 420, 'fan': 278, 'sue': 749, 'henry': 362, 'jessie': 427, 'arnold': 60, 'mystery': 519, 'looking': 470, 'forward': 311, 'lastest': 443, 'adventure': 24, 'disappointed': 211, 'outing': 571, 'characters': 134, 'dimensional': 208, 'discovering': 212, 'guys': 347, 'needed': 528, 'reread': 664, 'part': 579, 'clarification': 148, 'annoying': 50, 'habit': 348, 'foreshadowing': 309, 'many': 485, 'chapters': 133, 'hadn': 350, 'notion': 542, 'decidedly': 185, 'change': 131, 'next': 531, 'few': 292, 'hours': 379, 'relationship': 655, 'alex': 32, 'seemed': 689, 'stilted': 738, 'realize': 643, 'difficult': 206, 'create': 181, 'plausible': 591, 'mysteries': 518, 'civilian': 146, 'musher': 515, 'accomplished': 13, 'little': 466, 'indulgent': 398, 'heinlein': 360, 'novel': 543, 'loads': 468, 'hooks': 376, 'early': 232, 'catch': 126, 'attention': 68, 'unfortunately': 827, 'these': 788, 'superfluous': 751, 'lead': 449, 'nowhere': 546, 'shoddy': 701, 'technique': 771, 'four': 313, 'hienlein': 367, 'final': 294, 'also': 35, 'treated': 811, 'stock': 739, 'dirty': 210, 'old': 553, 'horny': 378, 'female': 291, 'computers': 162, 'naked': 522, 'adolescent': 22, 'girls': 329, 'dominant': 221, 'beauties': 80, 'home': 373, 'leather': 452, 'whips': 866, 'without': 876, 'archetype': 57, 'novels': 544, '1970': 7, 'sparse': 721, 'drags': 226, 'usual': 837, 'cast': 125, 'prone': 616, 'doing': 219, 'cameo': 120, 'appearances': 55, 'group': 345, 'dull': 229, 'earlier': 231, 'prior': 611, '1960': 6, 'fare': 281, 'young': 900, 'especially': 251, 'boys': 111, 'later': 445, 'enjoyed': 245, 'primarily': 609, 'die': 204, 'definitely': 189, 'beginning': 90, 'painful': 578, 'illogical': 388, 'ending': 242, 'least': 451, 'fiction': 293, 'thoughts': 797, 'powerful': 601, 'need': 527, 'resrained': 666, 'survivied': 762, 'feel': 287, 'guilty': 346, 'others': 566, 'question': 626, 'survive': 761, 'logic': 469, 'quite': 629, 'alone': 34, 'sometimes': 715}\n"
     ]
    }
   ],
   "source": [
    "print(vect.vocabulary_)"
   ]
  },
  {
   "cell_type": "markdown",
   "metadata": {},
   "source": [
    "#### 2b. TF-IDF "
   ]
  },
  {
   "cell_type": "code",
   "execution_count": 8,
   "metadata": {},
   "outputs": [
    {
     "data": {
      "text/plain": [
       "TfidfVectorizer(analyzer='word', binary=False, decode_error='strict',\n",
       "        dtype=<class 'numpy.int64'>, encoding='utf-8', input='content',\n",
       "        lowercase=True, max_df=1.0, max_features=None, min_df=1,\n",
       "        ngram_range=(1, 1), norm='l2', preprocessor=None, smooth_idf=True,\n",
       "        stop_words=None, strip_accents=None, sublinear_tf=False,\n",
       "        token_pattern='(?u)\\\\b\\\\w\\\\w+\\\\b', tokenizer=None, use_idf=True,\n",
       "        vocabulary=None)"
      ]
     },
     "execution_count": 8,
     "metadata": {},
     "output_type": "execute_result"
    }
   ],
   "source": [
    "corpus = data[1]\n",
    "\n",
    "# BoW representation is implemented in CountVectorizer.\n",
    "vect = TfidfVectorizer()\n",
    "vect.fit(corpus)"
   ]
  },
  {
   "cell_type": "code",
   "execution_count": 9,
   "metadata": {},
   "outputs": [
    {
     "name": "stdout",
     "output_type": "stream",
     "text": [
      "904\n"
     ]
    }
   ],
   "source": [
    "print(len(vect.vocabulary_))"
   ]
  },
  {
   "cell_type": "code",
   "execution_count": 10,
   "metadata": {},
   "outputs": [
    {
     "name": "stdout",
     "output_type": "stream",
     "text": [
      "{'ok': 552, 'but': 116, 'think': 792, 'the': 782, 'keirsey': 436, 'temperment': 774, 'test': 777, 'is': 417, 'more': 508, 'accurate': 16, 'and': 47, 'cheaper': 135, 'this': 794, 'book': 108, 'has': 352, 'its': 425, 'good': 335, 'points': 593, 'if': 386, 'anything': 54, 'it': 424, 'helps': 361, 'you': 899, 'put': 623, 'into': 410, 'words': 884, 'what': 862, 'want': 847, 'from': 318, 'supervisor': 753, 'not': 540, 'very': 840, 'online': 556, 'does': 217, 'account': 15, 'for': 303, 'difference': 205, 'between': 98, 'when': 863, 'of': 549, 'their': 783, 'options': 560, 'are': 58, 'both': 110, 'exactly': 257, 'like': 462, 'or': 561, 'they': 789, 'don': 223, 'describe': 195, 'at': 65, 'all': 33, 'messes': 496, 'up': 833, 'results': 667, 'did': 203, 'me': 490, 'well': 860, 'am': 40, 'just': 433, 'in': 392, 'denial': 192, 'have': 355, 'taken': 765, 'lot': 472, 'personality': 586, 'type': 821, 'tests': 778, 'sorter': 716, 'pretty': 607, 'idea': 383, 'my': 517, 'strengths': 743, 'so': 710, 'although': 37, 'making': 482, 'understand': 825, 'importance': 389, 'incouraging': 395, 'your': 901, 'still': 737, 'leaves': 454, 'wondering': 882, 'about': 11, 'how': 380, 'fit': 301, 'to': 807, 'terminology': 775, 'as': 63, 'using': 836, 'manager': 484, 'better': 97, 'serve': 696, 'employees': 239, 'seen': 690, 'done': 224, 'necessarily': 526, 'work': 885, 'because': 82, 'spit': 726, 'out': 570, 'people': 583, 'were': 861, 'wholly': 869, 'company': 157, 'most': 509, 'who': 868, 'shifted': 700, 'around': 61, 'according': 14, 'unhappy': 828, 'new': 530, 'positions': 599, 'money': 506, 'can': 121, 'be': 78, 'spent': 724, 'elsewhere': 237, 'say': 685, 'only': 557, 'worth': 889, '10': 0, 'repellent': 661, 'sale': 681, 'conservativism': 167, 'fatalistic': 283, 'view': 841, 'expressed': 266, 'by': 117, 'kirk': 438, 'even': 254, 'before': 86, 'first': 300, 'chapter': 132, 'concludes': 164, 'he': 358, 'states': 732, 'edmund': 235, 'burke': 114, 'could': 178, 'see': 686, 'our': 569, 'century': 127, 'never': 529, 'would': 890, 'concede': 163, 'that': 781, 'consumption': 169, 'society': 712, 'near': 525, 'suicide': 750, 'end': 241, 'which': 864, 'providence': 618, 'prepared': 604, 'man': 483, 'wait': 846, 'conservative': 165, 'mind': 499, 'was': 854, 'published': 620, '1953': 4, 'mythical': 521, 'golden': 334, 'age': 29, 'america': 41, 'with': 875, 'ward': 850, 'june': 432, 'cleaver': 152, 'normal': 536, 'rockwell': 675, 'meanwhile': 492, 'contemporary': 171, '18th': 3, 'pining': 590, '14th': 2, 'depressing': 193, 'ideology': 385, 'we': 857, 'always': 39, 'live': 467, 'worst': 888, 'times': 805, 'there': 787, 'certain': 128, 'ideological': 384, 'threads': 799, 'carry': 124, 'throughout': 803, 'including': 394, 'belief': 92, 'stratification': 742, 'voting': 844, 'should': 702, 'privilege': 612, 'small': 709, 'minority': 503, 'rather': 637, 'than': 779, 'universal': 830, 'democracy': 191, 'saw': 684, 'contributing': 174, 'degradation': 190, 'writes': 894, 'men': 493, 'really': 644, 'seeking': 688, 'ought': 568, 'seek': 687, 'right': 671, 'govern': 337, 'themselves': 785, 'governed': 338, 'offers': 550, 'lack': 441, 'true': 814, 'representation': 662, 'author': 70, 'pines': 589, 'days': 184, 'aristocrat': 59, 'defines': 188, 'elites': 236, 'wealth': 858, 'intellect': 404, 'lineage': 464, 'clearly': 151, 'includes': 393, 'race': 631, 'gender': 324, 'surprising': 760, 'lauds': 446, 'some': 713, 'racists': 634, 'american': 42, 'history': 372, 'nathanial': 523, 'bedford': 84, 'forrest': 310, 'whom': 870, 'describes': 196, 'magnificent': 478, 'quoting': 630, 'his': 371, 'racist': 633, 'vitriol': 843, 'particularly': 581, 'galling': 322, 'move': 511, 'referrers': 651, 'pro': 613, 'slavery': 708, 'advocate': 25, 'john': 429, 'calhoun': 118, 'defender': 187, 'minorities': 502, 'praises': 602, 'randolph': 635, 'among': 43, 'other': 565, 'things': 791, 'opposing': 559, 'doctrines': 216, 'racial': 632, 'equality': 250, 'goes': 333, 'on': 554, 'support': 754, 'rights': 672, 'extended': 268, 'southern': 720, 'supported': 755, 'fugitive': 321, 'slave': 707, 'act': 17, 'forced': 305, 'federal': 286, 'officials': 551, 'law': 447, 'northern': 538, 'return': 669, 'runaway': 677, 'under': 823, 'penalty': 582, '1000': 1, 'fine': 297, 'laws': 448, 'make': 480, 'illegal': 387, 'northerners': 539, 'protest': 617, 'nothing': 541, 'self': 692, 'serving': 697, 'attempt': 67, 'keep': 435, 'safe': 679, 'shows': 703, 'own': 576, 'stripes': 744, 'refers': 652, 'anti': 52, 'agitation': 30, 'supports': 756, 'choosing': 140, 'preservation': 605, 'over': 573, 'liberty': 460, 'an': 44, 'extremely': 269, 'warped': 851, 'one': 555, 'wonders': 883, 'fathom': 284, 'supreme': 758, 'irony': 415, 'stating': 733, 'mounted': 510, 'strong': 745, 'against': 28, 'domination': 222, 'class': 149, 'region': 654, 'another': 51, 'thread': 798, 'desire': 199, 'reunification': 670, 'church': 143, 'state': 731, 'duty': 230, 'unclean': 822, 'masses': 488, 'line': 463, 'samuel': 683, 'coleridge': 155, 'makes': 481, 'clear': 150, 'truth': 816, 'falsity': 275, 'irrelevant': 416, 'institution': 403, 'must': 516, 'preserved': 606, 'primary': 610, 'means': 491, 'social': 711, 'control': 175, 'sounding': 718, 'inspiration': 401, 'disgraced': 213, 'chief': 137, 'justice': 434, 'roy': 676, 'moore': 507, 'russell': 678, 'urges': 834, 'separate': 695, 'entities': 249, 'religion': 656, 'merely': 494, 'expression': 267, 'national': 524, 'spirit': 725, 'rises': 673, 'far': 280, 'superior': 752, 'earthly': 234, 'being': 91, 'indeed': 397, 'source': 719, 'sees': 691, 'faulty': 285, 'god': 332, 'draws': 227, 'distinction': 214, 'wonder': 880, 'modern': 504, 'reconstructionist': 650, 'wanted': 848, 'leviticus': 459, 'imposed': 390, 'executing': 259, 'homosexuals': 375, 'blasphemers': 103, 'explains': 264, 'might': 497, 'recognize': 647, 'besides': 96, 'prejudice': 603, 'third': 793, 'intellectual': 405, 'perhaps': 584, 'stupid': 746, 'stance': 728, 'human': 381, 'reason': 645, 'puny': 621, 'impotent': 391, 'claims': 147, 'find': 296, 'tradition': 809, 'ready': 642, 'application': 56, 'emergency': 238, 'previously': 608, 'engages': 244, 'steady': 736, 'course': 180, 'wisdom': 874, 'virtue': 842, 'leave': 453, 'hesitating': 365, 'moment': 505, 'decision': 186, 'skeptical': 706, 'puzzled': 624, 'unresolved': 831, 'actually': 19, 'advocating': 26, 'general': 325, 'population': 597, 'turn': 819, 'rational': 638, 'thought': 796, 'those': 795, 'higher': 368, 'chain': 130, 'citizens': 145, 'encouraged': 240, 'exhibit': 261, 'awe': 73, 'veneration': 839, 'stations': 734, 'authority': 71, 'order': 562, 'grab': 339, 'fleece': 302, 'populism': 598, 'conservatives': 166, 'lately': 444, 'had': 349, 'abandon': 9, 'overt': 575, 'certainly': 129, 'evident': 256, 'remains': 658, 'complete': 160, 'fa': 270, 'ade': 20, 'found': 312, 'salesmanship': 682, 'generally': 326, 'recommend': 648, 'fairly': 273, 'enlightening': 246, 'continues': 173, 'thrive': 800, 'day': 183, 'bad': 75, 'feeling': 288, 'intrigued': 411, 'title': 806, 'supposedly': 757, 'links': 465, 'jedi': 426, 'christianity': 142, 'after': 27, '60': 8, 'pages': 577, 'got': 336, 'staub': 735, 'trying': 817, 'wrap': 892, 'christian': 141, 'cloth': 154, 'failing': 272, 'speaks': 723, 'difficulty': 207, 'leading': 450, 'life': 461, 'any': 53, 'religious': 657, 'islam': 418, 'otherwise': 567, 'hard': 351, 'turns': 820, 'back': 74, 'norm': 535, 'conventional': 176, 'convinced': 177, 'yoda': 898, 'zen': 903, 'master': 489, 'force': 304, 'derived': 194, 'tao': 767, 'interpreted': 409, 'orthodox': 564, 'purposefully': 622, 'leaving': 455, 'mysticism': 520, 'beast': 79, 'altogether': 38, 'subject': 747, 'theology': 786, 'star': 729, 'wars': 853, 'dharma': 202, 'lost': 471, 'credability': 182, 'quickly': 627, 'admit': 21, 'haven': 356, 'finished': 298, 'friend': 315, 'recommended': 649, 'been': 85, 'having': 357, 'problems': 614, 'insomnia': 400, 'interested': 407, 'reading': 640, 'women': 879, 'health': 359, 'issues': 423, 'sounded': 717, 'intriguing': 412, 'until': 832, 'she': 699, 'started': 730, 'her': 363, 'tarot': 768, 'cards': 123, 'interest': 406, 'astrology': 64, 'angels': 48, 'granted': 341, 'firm': 299, 'believer': 94, 'facts': 271, 'believe': 93, 'woman': 878, 'common': 156, 'sense': 694, 'isn': 421, 'alternative': 36, 'enough': 247, 'poorly': 596, 'written': 895, 'tried': 812, 'turgid': 818, 'down': 225, 'frustration': 320, 'reads': 641, 'translation': 810, 'language': 442, 'academic': 12, 'bureacrat': 113, 'theme': 784, 'interesting': 408, 'execution': 260, 'poor': 595, 'cannot': 122, 'felt': 290, 'write': 893, 'why': 871, 'ever': 255, 'time': 804, 'something': 714, 'usually': 838, 'wonderful': 881, 'quinn': 628, 'trilogy': 813, 'fans': 279, 'begged': 88, 'nora': 534, 'roberts': 674, 'seth': 698, 'story': 740, 'journeyed': 431, 'through': 802, 'him': 369, 'fall': 274, 'love': 474, 'repeatedly': 660, 'said': 680, 'us': 835, 'kept': 437, 'begging': 89, 'excited': 258, 'finally': 295, 'gave': 323, 'wrote': 896, 'chesapeake': 136, 'blue': 105, 'know': 439, 'grateful': 342, 'wasn': 855, 'fellow': 289, 'nr': 547, 'friends': 316, 'heroine': 364, 'aubrey': 69, 'beautiful': 81, 'friendship': 317, 'expected': 262, 'open': 558, 'loved': 475, 'anna': 49, 'grace': 340, 'sybill': 763, 'dru': 228, 'whitcomb': 867, 'banks': 77, 'completely': 161, 'let': 458, 'whine': 865, 'complain': 159, 'minor': 501, 'compared': 158, 'cam': 119, 'ethan': 252, 'philip': 588, 'experienced': 263, 'children': 138, 'becoming': 83, 'artist': 62, 'surprise': 759, 'too': 808, 'join': 430, 'family': 277, 'business': 115, 'design': 198, 'boats': 106, 'gloria': 331, 'blackmailing': 102, 'thin': 790, 'plotline': 592, 'no': 532, 'contact': 170, 'considering': 168, 'warrents': 852, 'wouldn': 891, 'tell': 773, 'brothers': 112, 'wives': 877, 'worked': 886, 'away': 72, 'closed': 153, 'vowing': 845, 'request': 663, 'beg': 87, 'petition': 587, 'get': 327, 'islamo': 419, 'fascists': 282, 'murderers': 514, 'thank': 780, 'professor': 615, 'chomsky': 139, 'noam': 533, 'thrived': 801, 'greatly': 344, 'great': 343, 'country': 179, 'yours': 902, 'mine': 500, 'united': 829, 'made': 477, 'millions': 498, 'dollars': 220, 'teaching': 770, 'lecturing': 456, 'selling': 693, 'books': 109, 'investing': 413, 'world': 887, 'wide': 872, 'fame': 276, 'psycholinguistics': 619, 'deserved': 197, 'infamy': 399, 'merited': 495, 'loyalty': 476, 'jewish': 428, 'ethnicity': 253, 'spite': 727, 'fruits': 319, 'received': 646, 'citizen': 144, 'repaid': 659, 'bile': 101, 'incredibly': 396, 'biased': 100, 'analysis': 45, 'foreign': 307, 'policy': 594, 'way': 856, 'beyond': 99, 'balanced': 76, 'multiculturism': 513, 'ranks': 636, 'israel': 422, 'foremost': 308, 'terrorist': 776, 'forces': 306, 'now': 545, 'distrust': 215, 'benign': 95, 'reflected': 653, 'dogmatic': 218, 'unexamined': 826, 'underdog': 824, 'bomber': 107, 'major': 479, 'organization': 563, 'such': 748, 'al': 31, 'queda': 625, 'hezbollah': 366, 'yet': 897, 'since': 705, '1955': 5, 'hypocrite': 382, 'overdog': 574, 'massachusetts': 487, 'institute': 402, 'technology': 772, 'actively': 18, 'enthusiastically': 248, 'participated': 580, 'development': 201, 'weapons': 859, 'war': 849, 'mass': 486, 'destruction': 200, 'trumps': 815, 'potential': 600, 'gifted': 328, 'analytic': 46, 'objectivity': 548, 'simple': 704, 'hatred': 354, 'attached': 66, 'freedom': 314, 'earning': 233, 'adulation': 23, 'left': 457, 'express': 265, 'himself': 370, 'able': 10, 'give': 330, 'direct': 209, 'personal': 585, 'enemies': 243, 'taking': 766, 'residence': 665, 'north': 537, 'korea': 440, 'iran': 414, 'syria': 764, 'hope': 377, 'retires': 668, 'outside': 572, 'homeland': 374, 'hates': 353, 'much': 512, 'bless': 104, 'will': 873, 'continue': 172, 'speak': 722, 'teach': 769, 'lots': 473, 'raybo': 639, 'stranded': 741, 'island': 420, 'fan': 278, 'sue': 749, 'henry': 362, 'jessie': 427, 'arnold': 60, 'mystery': 519, 'looking': 470, 'forward': 311, 'lastest': 443, 'adventure': 24, 'disappointed': 211, 'outing': 571, 'characters': 134, 'dimensional': 208, 'discovering': 212, 'guys': 347, 'needed': 528, 'reread': 664, 'part': 579, 'clarification': 148, 'annoying': 50, 'habit': 348, 'foreshadowing': 309, 'many': 485, 'chapters': 133, 'hadn': 350, 'notion': 542, 'decidedly': 185, 'change': 131, 'next': 531, 'few': 292, 'hours': 379, 'relationship': 655, 'alex': 32, 'seemed': 689, 'stilted': 738, 'realize': 643, 'difficult': 206, 'create': 181, 'plausible': 591, 'mysteries': 518, 'civilian': 146, 'musher': 515, 'accomplished': 13, 'little': 466, 'indulgent': 398, 'heinlein': 360, 'novel': 543, 'loads': 468, 'hooks': 376, 'early': 232, 'catch': 126, 'attention': 68, 'unfortunately': 827, 'these': 788, 'superfluous': 751, 'lead': 449, 'nowhere': 546, 'shoddy': 701, 'technique': 771, 'four': 313, 'hienlein': 367, 'final': 294, 'also': 35, 'treated': 811, 'stock': 739, 'dirty': 210, 'old': 553, 'horny': 378, 'female': 291, 'computers': 162, 'naked': 522, 'adolescent': 22, 'girls': 329, 'dominant': 221, 'beauties': 80, 'home': 373, 'leather': 452, 'whips': 866, 'without': 876, 'archetype': 57, 'novels': 544, '1970': 7, 'sparse': 721, 'drags': 226, 'usual': 837, 'cast': 125, 'prone': 616, 'doing': 219, 'cameo': 120, 'appearances': 55, 'group': 345, 'dull': 229, 'earlier': 231, 'prior': 611, '1960': 6, 'fare': 281, 'young': 900, 'especially': 251, 'boys': 111, 'later': 445, 'enjoyed': 245, 'primarily': 609, 'die': 204, 'definitely': 189, 'beginning': 90, 'painful': 578, 'illogical': 388, 'ending': 242, 'least': 451, 'fiction': 293, 'thoughts': 797, 'powerful': 601, 'need': 527, 'resrained': 666, 'survivied': 762, 'feel': 287, 'guilty': 346, 'others': 566, 'question': 626, 'survive': 761, 'logic': 469, 'quite': 629, 'alone': 34, 'sometimes': 715}\n"
     ]
    }
   ],
   "source": [
    "print(vect.vocabulary_)"
   ]
  },
  {
   "cell_type": "markdown",
   "metadata": {},
   "source": [
    "### 3. Write Python program to create and print vocabulary and document-term matrix (vectorized representation)"
   ]
  },
  {
   "cell_type": "markdown",
   "metadata": {},
   "source": [
    "#### 3a. Document-term matrix for BoW"
   ]
  },
  {
   "cell_type": "code",
   "execution_count": 11,
   "metadata": {},
   "outputs": [],
   "source": [
    "## refit vect\n",
    "vect = CountVectorizer()\n",
    "bag = vect.fit_transform(corpus)"
   ]
  },
  {
   "cell_type": "code",
   "execution_count": 12,
   "metadata": {
    "collapsed": true
   },
   "outputs": [],
   "source": [
    "#To create the BoW representation for \"text\", call the transform method, which creates a document-term matrix.\n",
    "bag_of_words = vect.transform(corpus)"
   ]
  },
  {
   "cell_type": "code",
   "execution_count": 13,
   "metadata": {},
   "outputs": [
    {
     "name": "stdout",
     "output_type": "stream",
     "text": [
      "[[1 0 0 ..., 3 0 0]\n",
      " [0 1 1 ..., 0 0 0]\n",
      " [0 0 0 ..., 0 0 1]\n",
      " ..., \n",
      " [0 0 0 ..., 0 0 0]\n",
      " [0 0 0 ..., 1 0 0]\n",
      " [0 0 0 ..., 0 0 0]]\n"
     ]
    }
   ],
   "source": [
    "print(bag_of_words.toarray())"
   ]
  },
  {
   "cell_type": "code",
   "execution_count": 14,
   "metadata": {},
   "outputs": [
    {
     "name": "stdout",
     "output_type": "stream",
     "text": [
      "['10', '1000', '14th', '18th', '1953', '1955', '1960', '1970', '60', 'abandon', 'able', 'about', 'academic', 'accomplished', 'according', 'account', 'accurate', 'act', 'actively', 'actually', 'ade', 'admit', 'adolescent', 'adulation', 'adventure', 'advocate', 'advocating', 'after', 'against', 'age', 'agitation', 'al', 'alex', 'all', 'alone', 'also', 'alternative', 'although', 'altogether', 'always', 'am', 'america', 'american', 'among', 'an', 'analysis', 'analytic', 'and', 'angels', 'anna', 'annoying', 'another', 'anti', 'any', 'anything', 'appearances', 'application', 'archetype', 'are', 'aristocrat', 'arnold', 'around', 'artist', 'as', 'astrology', 'at', 'attached', 'attempt', 'attention', 'aubrey', 'author', 'authority', 'away', 'awe', 'back', 'bad', 'balanced', 'banks', 'be', 'beast', 'beauties', 'beautiful', 'because', 'becoming', 'bedford', 'been', 'before', 'beg', 'begged', 'begging', 'beginning', 'being', 'belief', 'believe', 'believer', 'benign', 'besides', 'better', 'between', 'beyond', 'biased', 'bile', 'blackmailing', 'blasphemers', 'bless', 'blue', 'boats', 'bomber', 'book', 'books', 'both', 'boys', 'brothers', 'bureacrat', 'burke', 'business', 'but', 'by', 'calhoun', 'cam', 'cameo', 'can', 'cannot', 'cards', 'carry', 'cast', 'catch', 'century', 'certain', 'certainly', 'chain', 'change', 'chapter', 'chapters', 'characters', 'cheaper', 'chesapeake', 'chief', 'children', 'chomsky', 'choosing', 'christian', 'christianity', 'church', 'citizen', 'citizens', 'civilian', 'claims', 'clarification', 'class', 'clear', 'clearly', 'cleaver', 'closed', 'cloth', 'coleridge', 'common', 'company', 'compared', 'complain', 'complete', 'completely', 'computers', 'concede', 'concludes', 'conservative', 'conservatives', 'conservativism', 'considering', 'consumption', 'contact', 'contemporary', 'continue', 'continues', 'contributing', 'control', 'conventional', 'convinced', 'could', 'country', 'course', 'create', 'credability', 'day', 'days', 'decidedly', 'decision', 'defender', 'defines', 'definitely', 'degradation', 'democracy', 'denial', 'depressing', 'derived', 'describe', 'describes', 'deserved', 'design', 'desire', 'destruction', 'development', 'dharma', 'did', 'die', 'difference', 'difficult', 'difficulty', 'dimensional', 'direct', 'dirty', 'disappointed', 'discovering', 'disgraced', 'distinction', 'distrust', 'doctrines', 'does', 'dogmatic', 'doing', 'dollars', 'dominant', 'domination', 'don', 'done', 'down', 'drags', 'draws', 'dru', 'dull', 'duty', 'earlier', 'early', 'earning', 'earthly', 'edmund', 'elites', 'elsewhere', 'emergency', 'employees', 'encouraged', 'end', 'ending', 'enemies', 'engages', 'enjoyed', 'enlightening', 'enough', 'enthusiastically', 'entities', 'equality', 'especially', 'ethan', 'ethnicity', 'even', 'ever', 'evident', 'exactly', 'excited', 'executing', 'execution', 'exhibit', 'expected', 'experienced', 'explains', 'express', 'expressed', 'expression', 'extended', 'extremely', 'fa', 'facts', 'failing', 'fairly', 'fall', 'falsity', 'fame', 'family', 'fan', 'fans', 'far', 'fare', 'fascists', 'fatalistic', 'fathom', 'faulty', 'federal', 'feel', 'feeling', 'fellow', 'felt', 'female', 'few', 'fiction', 'final', 'finally', 'find', 'fine', 'finished', 'firm', 'first', 'fit', 'fleece', 'for', 'force', 'forced', 'forces', 'foreign', 'foremost', 'foreshadowing', 'forrest', 'forward', 'found', 'four', 'freedom', 'friend', 'friends', 'friendship', 'from', 'fruits', 'frustration', 'fugitive', 'galling', 'gave', 'gender', 'general', 'generally', 'get', 'gifted', 'girls', 'give', 'gloria', 'god', 'goes', 'golden', 'good', 'got', 'govern', 'governed', 'grab', 'grace', 'granted', 'grateful', 'great', 'greatly', 'group', 'guilty', 'guys', 'habit', 'had', 'hadn', 'hard', 'has', 'hates', 'hatred', 'have', 'haven', 'having', 'he', 'health', 'heinlein', 'helps', 'henry', 'her', 'heroine', 'hesitating', 'hezbollah', 'hienlein', 'higher', 'him', 'himself', 'his', 'history', 'home', 'homeland', 'homosexuals', 'hooks', 'hope', 'horny', 'hours', 'how', 'human', 'hypocrite', 'idea', 'ideological', 'ideology', 'if', 'illegal', 'illogical', 'importance', 'imposed', 'impotent', 'in', 'includes', 'including', 'incouraging', 'incredibly', 'indeed', 'indulgent', 'infamy', 'insomnia', 'inspiration', 'institute', 'institution', 'intellect', 'intellectual', 'interest', 'interested', 'interesting', 'interpreted', 'into', 'intrigued', 'intriguing', 'investing', 'iran', 'irony', 'irrelevant', 'is', 'islam', 'islamo', 'island', 'isn', 'israel', 'issues', 'it', 'its', 'jedi', 'jessie', 'jewish', 'john', 'join', 'journeyed', 'june', 'just', 'justice', 'keep', 'keirsey', 'kept', 'kirk', 'know', 'korea', 'lack', 'language', 'lastest', 'lately', 'later', 'lauds', 'law', 'laws', 'lead', 'leading', 'least', 'leather', 'leave', 'leaves', 'leaving', 'lecturing', 'left', 'let', 'leviticus', 'liberty', 'life', 'like', 'line', 'lineage', 'links', 'little', 'live', 'loads', 'logic', 'looking', 'lost', 'lot', 'lots', 'love', 'loved', 'loyalty', 'made', 'magnificent', 'major', 'make', 'makes', 'making', 'man', 'manager', 'many', 'mass', 'massachusetts', 'masses', 'master', 'me', 'means', 'meanwhile', 'men', 'merely', 'merited', 'messes', 'might', 'millions', 'mind', 'mine', 'minor', 'minorities', 'minority', 'modern', 'moment', 'money', 'moore', 'more', 'most', 'mounted', 'move', 'much', 'multiculturism', 'murderers', 'musher', 'must', 'my', 'mysteries', 'mystery', 'mysticism', 'mythical', 'naked', 'nathanial', 'national', 'near', 'necessarily', 'need', 'needed', 'never', 'new', 'next', 'no', 'noam', 'nora', 'norm', 'normal', 'north', 'northern', 'northerners', 'not', 'nothing', 'notion', 'novel', 'novels', 'now', 'nowhere', 'nr', 'objectivity', 'of', 'offers', 'officials', 'ok', 'old', 'on', 'one', 'online', 'only', 'open', 'opposing', 'options', 'or', 'order', 'organization', 'orthodox', 'other', 'others', 'otherwise', 'ought', 'our', 'out', 'outing', 'outside', 'over', 'overdog', 'overt', 'own', 'pages', 'painful', 'part', 'participated', 'particularly', 'penalty', 'people', 'perhaps', 'personal', 'personality', 'petition', 'philip', 'pines', 'pining', 'plausible', 'plotline', 'points', 'policy', 'poor', 'poorly', 'population', 'populism', 'positions', 'potential', 'powerful', 'praises', 'prejudice', 'prepared', 'preservation', 'preserved', 'pretty', 'previously', 'primarily', 'primary', 'prior', 'privilege', 'pro', 'problems', 'professor', 'prone', 'protest', 'providence', 'psycholinguistics', 'published', 'puny', 'purposefully', 'put', 'puzzled', 'queda', 'question', 'quickly', 'quinn', 'quite', 'quoting', 'race', 'racial', 'racist', 'racists', 'randolph', 'ranks', 'rather', 'rational', 'raybo', 'reading', 'reads', 'ready', 'realize', 'really', 'reason', 'received', 'recognize', 'recommend', 'recommended', 'reconstructionist', 'referrers', 'refers', 'reflected', 'region', 'relationship', 'religion', 'religious', 'remains', 'repaid', 'repeatedly', 'repellent', 'representation', 'request', 'reread', 'residence', 'resrained', 'results', 'retires', 'return', 'reunification', 'right', 'rights', 'rises', 'roberts', 'rockwell', 'roy', 'runaway', 'russell', 'safe', 'said', 'sale', 'salesmanship', 'samuel', 'saw', 'say', 'see', 'seek', 'seeking', 'seemed', 'seen', 'sees', 'self', 'selling', 'sense', 'separate', 'serve', 'serving', 'seth', 'she', 'shifted', 'shoddy', 'should', 'shows', 'simple', 'since', 'skeptical', 'slave', 'slavery', 'small', 'so', 'social', 'society', 'some', 'something', 'sometimes', 'sorter', 'sounded', 'sounding', 'source', 'southern', 'sparse', 'speak', 'speaks', 'spent', 'spirit', 'spit', 'spite', 'stance', 'star', 'started', 'state', 'states', 'stating', 'stations', 'staub', 'steady', 'still', 'stilted', 'stock', 'story', 'stranded', 'stratification', 'strengths', 'stripes', 'strong', 'stupid', 'subject', 'such', 'sue', 'suicide', 'superfluous', 'superior', 'supervisor', 'support', 'supported', 'supports', 'supposedly', 'supreme', 'surprise', 'surprising', 'survive', 'survivied', 'sybill', 'syria', 'taken', 'taking', 'tao', 'tarot', 'teach', 'teaching', 'technique', 'technology', 'tell', 'temperment', 'terminology', 'terrorist', 'test', 'tests', 'than', 'thank', 'that', 'the', 'their', 'theme', 'themselves', 'theology', 'there', 'these', 'they', 'thin', 'things', 'think', 'third', 'this', 'those', 'thought', 'thoughts', 'thread', 'threads', 'thrive', 'thrived', 'through', 'throughout', 'time', 'times', 'title', 'to', 'too', 'tradition', 'translation', 'treated', 'tried', 'trilogy', 'true', 'trumps', 'truth', 'trying', 'turgid', 'turn', 'turns', 'type', 'unclean', 'under', 'underdog', 'understand', 'unexamined', 'unfortunately', 'unhappy', 'united', 'universal', 'unresolved', 'until', 'up', 'urges', 'us', 'using', 'usual', 'usually', 'veneration', 'very', 'view', 'virtue', 'vitriol', 'voting', 'vowing', 'wait', 'want', 'wanted', 'war', 'ward', 'warped', 'warrents', 'wars', 'was', 'wasn', 'way', 'we', 'wealth', 'weapons', 'well', 'were', 'what', 'when', 'which', 'whine', 'whips', 'whitcomb', 'who', 'wholly', 'whom', 'why', 'wide', 'will', 'wisdom', 'with', 'without', 'wives', 'woman', 'women', 'wonder', 'wonderful', 'wondering', 'wonders', 'words', 'work', 'worked', 'world', 'worst', 'worth', 'would', 'wouldn', 'wrap', 'write', 'writes', 'written', 'wrote', 'yet', 'yoda', 'you', 'young', 'your', 'yours', 'zen']\n"
     ]
    }
   ],
   "source": [
    "feature_names = vect.get_feature_names()\n",
    "print(feature_names)"
   ]
  },
  {
   "cell_type": "code",
   "execution_count": 15,
   "metadata": {},
   "outputs": [
    {
     "name": "stdout",
     "output_type": "stream",
     "text": [
      "904\n"
     ]
    }
   ],
   "source": [
    "number_of_features = len(feature_names)\n",
    "print(number_of_features)"
   ]
  },
  {
   "cell_type": "markdown",
   "metadata": {},
   "source": [
    "#### 3b.  Document-term matrix for TF-IDF"
   ]
  },
  {
   "cell_type": "code",
   "execution_count": 16,
   "metadata": {
    "collapsed": true
   },
   "outputs": [],
   "source": [
    "vect = TfidfVectorizer()"
   ]
  },
  {
   "cell_type": "code",
   "execution_count": 17,
   "metadata": {
    "collapsed": true
   },
   "outputs": [],
   "source": [
    "vect = TfidfVectorizer()\n",
    "vect.fit(corpus)\n",
    "tfidf = vect.transform(corpus)"
   ]
  },
  {
   "cell_type": "code",
   "execution_count": 18,
   "metadata": {},
   "outputs": [
    {
     "name": "stdout",
     "output_type": "stream",
     "text": [
      "[[ 0.06143829  0.          0.         ...,  0.15668449  0.          0.        ]\n",
      " [ 0.          0.02325564  0.02325564 ...,  0.          0.          0.        ]\n",
      " [ 0.          0.          0.         ...,  0.          0.          0.08745341]\n",
      " ..., \n",
      " [ 0.          0.          0.         ...,  0.          0.          0.        ]\n",
      " [ 0.          0.          0.         ...,  0.05937969  0.          0.        ]\n",
      " [ 0.          0.          0.         ...,  0.          0.          0.        ]]\n"
     ]
    }
   ],
   "source": [
    "print(tfidf.toarray())"
   ]
  },
  {
   "cell_type": "code",
   "execution_count": 19,
   "metadata": {},
   "outputs": [
    {
     "name": "stdout",
     "output_type": "stream",
     "text": [
      "['10', '1000', '14th', '18th', '1953', '1955', '1960', '1970', '60', 'abandon', 'able', 'about', 'academic', 'accomplished', 'according', 'account', 'accurate', 'act', 'actively', 'actually', 'ade', 'admit', 'adolescent', 'adulation', 'adventure', 'advocate', 'advocating', 'after', 'against', 'age', 'agitation', 'al', 'alex', 'all', 'alone', 'also', 'alternative', 'although', 'altogether', 'always', 'am', 'america', 'american', 'among', 'an', 'analysis', 'analytic', 'and', 'angels', 'anna', 'annoying', 'another', 'anti', 'any', 'anything', 'appearances', 'application', 'archetype', 'are', 'aristocrat', 'arnold', 'around', 'artist', 'as', 'astrology', 'at', 'attached', 'attempt', 'attention', 'aubrey', 'author', 'authority', 'away', 'awe', 'back', 'bad', 'balanced', 'banks', 'be', 'beast', 'beauties', 'beautiful', 'because', 'becoming', 'bedford', 'been', 'before', 'beg', 'begged', 'begging', 'beginning', 'being', 'belief', 'believe', 'believer', 'benign', 'besides', 'better', 'between', 'beyond', 'biased', 'bile', 'blackmailing', 'blasphemers', 'bless', 'blue', 'boats', 'bomber', 'book', 'books', 'both', 'boys', 'brothers', 'bureacrat', 'burke', 'business', 'but', 'by', 'calhoun', 'cam', 'cameo', 'can', 'cannot', 'cards', 'carry', 'cast', 'catch', 'century', 'certain', 'certainly', 'chain', 'change', 'chapter', 'chapters', 'characters', 'cheaper', 'chesapeake', 'chief', 'children', 'chomsky', 'choosing', 'christian', 'christianity', 'church', 'citizen', 'citizens', 'civilian', 'claims', 'clarification', 'class', 'clear', 'clearly', 'cleaver', 'closed', 'cloth', 'coleridge', 'common', 'company', 'compared', 'complain', 'complete', 'completely', 'computers', 'concede', 'concludes', 'conservative', 'conservatives', 'conservativism', 'considering', 'consumption', 'contact', 'contemporary', 'continue', 'continues', 'contributing', 'control', 'conventional', 'convinced', 'could', 'country', 'course', 'create', 'credability', 'day', 'days', 'decidedly', 'decision', 'defender', 'defines', 'definitely', 'degradation', 'democracy', 'denial', 'depressing', 'derived', 'describe', 'describes', 'deserved', 'design', 'desire', 'destruction', 'development', 'dharma', 'did', 'die', 'difference', 'difficult', 'difficulty', 'dimensional', 'direct', 'dirty', 'disappointed', 'discovering', 'disgraced', 'distinction', 'distrust', 'doctrines', 'does', 'dogmatic', 'doing', 'dollars', 'dominant', 'domination', 'don', 'done', 'down', 'drags', 'draws', 'dru', 'dull', 'duty', 'earlier', 'early', 'earning', 'earthly', 'edmund', 'elites', 'elsewhere', 'emergency', 'employees', 'encouraged', 'end', 'ending', 'enemies', 'engages', 'enjoyed', 'enlightening', 'enough', 'enthusiastically', 'entities', 'equality', 'especially', 'ethan', 'ethnicity', 'even', 'ever', 'evident', 'exactly', 'excited', 'executing', 'execution', 'exhibit', 'expected', 'experienced', 'explains', 'express', 'expressed', 'expression', 'extended', 'extremely', 'fa', 'facts', 'failing', 'fairly', 'fall', 'falsity', 'fame', 'family', 'fan', 'fans', 'far', 'fare', 'fascists', 'fatalistic', 'fathom', 'faulty', 'federal', 'feel', 'feeling', 'fellow', 'felt', 'female', 'few', 'fiction', 'final', 'finally', 'find', 'fine', 'finished', 'firm', 'first', 'fit', 'fleece', 'for', 'force', 'forced', 'forces', 'foreign', 'foremost', 'foreshadowing', 'forrest', 'forward', 'found', 'four', 'freedom', 'friend', 'friends', 'friendship', 'from', 'fruits', 'frustration', 'fugitive', 'galling', 'gave', 'gender', 'general', 'generally', 'get', 'gifted', 'girls', 'give', 'gloria', 'god', 'goes', 'golden', 'good', 'got', 'govern', 'governed', 'grab', 'grace', 'granted', 'grateful', 'great', 'greatly', 'group', 'guilty', 'guys', 'habit', 'had', 'hadn', 'hard', 'has', 'hates', 'hatred', 'have', 'haven', 'having', 'he', 'health', 'heinlein', 'helps', 'henry', 'her', 'heroine', 'hesitating', 'hezbollah', 'hienlein', 'higher', 'him', 'himself', 'his', 'history', 'home', 'homeland', 'homosexuals', 'hooks', 'hope', 'horny', 'hours', 'how', 'human', 'hypocrite', 'idea', 'ideological', 'ideology', 'if', 'illegal', 'illogical', 'importance', 'imposed', 'impotent', 'in', 'includes', 'including', 'incouraging', 'incredibly', 'indeed', 'indulgent', 'infamy', 'insomnia', 'inspiration', 'institute', 'institution', 'intellect', 'intellectual', 'interest', 'interested', 'interesting', 'interpreted', 'into', 'intrigued', 'intriguing', 'investing', 'iran', 'irony', 'irrelevant', 'is', 'islam', 'islamo', 'island', 'isn', 'israel', 'issues', 'it', 'its', 'jedi', 'jessie', 'jewish', 'john', 'join', 'journeyed', 'june', 'just', 'justice', 'keep', 'keirsey', 'kept', 'kirk', 'know', 'korea', 'lack', 'language', 'lastest', 'lately', 'later', 'lauds', 'law', 'laws', 'lead', 'leading', 'least', 'leather', 'leave', 'leaves', 'leaving', 'lecturing', 'left', 'let', 'leviticus', 'liberty', 'life', 'like', 'line', 'lineage', 'links', 'little', 'live', 'loads', 'logic', 'looking', 'lost', 'lot', 'lots', 'love', 'loved', 'loyalty', 'made', 'magnificent', 'major', 'make', 'makes', 'making', 'man', 'manager', 'many', 'mass', 'massachusetts', 'masses', 'master', 'me', 'means', 'meanwhile', 'men', 'merely', 'merited', 'messes', 'might', 'millions', 'mind', 'mine', 'minor', 'minorities', 'minority', 'modern', 'moment', 'money', 'moore', 'more', 'most', 'mounted', 'move', 'much', 'multiculturism', 'murderers', 'musher', 'must', 'my', 'mysteries', 'mystery', 'mysticism', 'mythical', 'naked', 'nathanial', 'national', 'near', 'necessarily', 'need', 'needed', 'never', 'new', 'next', 'no', 'noam', 'nora', 'norm', 'normal', 'north', 'northern', 'northerners', 'not', 'nothing', 'notion', 'novel', 'novels', 'now', 'nowhere', 'nr', 'objectivity', 'of', 'offers', 'officials', 'ok', 'old', 'on', 'one', 'online', 'only', 'open', 'opposing', 'options', 'or', 'order', 'organization', 'orthodox', 'other', 'others', 'otherwise', 'ought', 'our', 'out', 'outing', 'outside', 'over', 'overdog', 'overt', 'own', 'pages', 'painful', 'part', 'participated', 'particularly', 'penalty', 'people', 'perhaps', 'personal', 'personality', 'petition', 'philip', 'pines', 'pining', 'plausible', 'plotline', 'points', 'policy', 'poor', 'poorly', 'population', 'populism', 'positions', 'potential', 'powerful', 'praises', 'prejudice', 'prepared', 'preservation', 'preserved', 'pretty', 'previously', 'primarily', 'primary', 'prior', 'privilege', 'pro', 'problems', 'professor', 'prone', 'protest', 'providence', 'psycholinguistics', 'published', 'puny', 'purposefully', 'put', 'puzzled', 'queda', 'question', 'quickly', 'quinn', 'quite', 'quoting', 'race', 'racial', 'racist', 'racists', 'randolph', 'ranks', 'rather', 'rational', 'raybo', 'reading', 'reads', 'ready', 'realize', 'really', 'reason', 'received', 'recognize', 'recommend', 'recommended', 'reconstructionist', 'referrers', 'refers', 'reflected', 'region', 'relationship', 'religion', 'religious', 'remains', 'repaid', 'repeatedly', 'repellent', 'representation', 'request', 'reread', 'residence', 'resrained', 'results', 'retires', 'return', 'reunification', 'right', 'rights', 'rises', 'roberts', 'rockwell', 'roy', 'runaway', 'russell', 'safe', 'said', 'sale', 'salesmanship', 'samuel', 'saw', 'say', 'see', 'seek', 'seeking', 'seemed', 'seen', 'sees', 'self', 'selling', 'sense', 'separate', 'serve', 'serving', 'seth', 'she', 'shifted', 'shoddy', 'should', 'shows', 'simple', 'since', 'skeptical', 'slave', 'slavery', 'small', 'so', 'social', 'society', 'some', 'something', 'sometimes', 'sorter', 'sounded', 'sounding', 'source', 'southern', 'sparse', 'speak', 'speaks', 'spent', 'spirit', 'spit', 'spite', 'stance', 'star', 'started', 'state', 'states', 'stating', 'stations', 'staub', 'steady', 'still', 'stilted', 'stock', 'story', 'stranded', 'stratification', 'strengths', 'stripes', 'strong', 'stupid', 'subject', 'such', 'sue', 'suicide', 'superfluous', 'superior', 'supervisor', 'support', 'supported', 'supports', 'supposedly', 'supreme', 'surprise', 'surprising', 'survive', 'survivied', 'sybill', 'syria', 'taken', 'taking', 'tao', 'tarot', 'teach', 'teaching', 'technique', 'technology', 'tell', 'temperment', 'terminology', 'terrorist', 'test', 'tests', 'than', 'thank', 'that', 'the', 'their', 'theme', 'themselves', 'theology', 'there', 'these', 'they', 'thin', 'things', 'think', 'third', 'this', 'those', 'thought', 'thoughts', 'thread', 'threads', 'thrive', 'thrived', 'through', 'throughout', 'time', 'times', 'title', 'to', 'too', 'tradition', 'translation', 'treated', 'tried', 'trilogy', 'true', 'trumps', 'truth', 'trying', 'turgid', 'turn', 'turns', 'type', 'unclean', 'under', 'underdog', 'understand', 'unexamined', 'unfortunately', 'unhappy', 'united', 'universal', 'unresolved', 'until', 'up', 'urges', 'us', 'using', 'usual', 'usually', 'veneration', 'very', 'view', 'virtue', 'vitriol', 'voting', 'vowing', 'wait', 'want', 'wanted', 'war', 'ward', 'warped', 'warrents', 'wars', 'was', 'wasn', 'way', 'we', 'wealth', 'weapons', 'well', 'were', 'what', 'when', 'which', 'whine', 'whips', 'whitcomb', 'who', 'wholly', 'whom', 'why', 'wide', 'will', 'wisdom', 'with', 'without', 'wives', 'woman', 'women', 'wonder', 'wonderful', 'wondering', 'wonders', 'words', 'work', 'worked', 'world', 'worst', 'worth', 'would', 'wouldn', 'wrap', 'write', 'writes', 'written', 'wrote', 'yet', 'yoda', 'you', 'young', 'your', 'yours', 'zen']\n"
     ]
    }
   ],
   "source": [
    "feature_names = vect.get_feature_names()\n",
    "print(feature_names)"
   ]
  },
  {
   "cell_type": "code",
   "execution_count": 20,
   "metadata": {},
   "outputs": [
    {
     "name": "stdout",
     "output_type": "stream",
     "text": [
      "904\n"
     ]
    }
   ],
   "source": [
    "number_of_features = len(feature_names)\n",
    "print(number_of_features)"
   ]
  },
  {
   "cell_type": "markdown",
   "metadata": {},
   "source": [
    "### 4. Try unigram and bigram parameters and observe their effect on number of features"
   ]
  },
  {
   "cell_type": "markdown",
   "metadata": {},
   "source": [
    "From class:<br>\n",
    "\n",
    "Why n-grams? Order of words in the BoW representation is completely discarded.  E.g. “It’s bad not good at all” vs “It’s good, not bad at all” <br> \n",
    "* Pair of tokens: bigrams\n",
    "* Triplets of tokens: trigrams\n",
    "* Sequence of tokens: n-grams\n",
    "* Range of tokens is indicated through ngram_range parameter of the CountVectorizer and TfidfVectorizer in scikit-learn\n",
    "\n",
    "*Reference: http://scikit-learn.org/stable/modules/generated/sklearn.feature_extraction.text.CountVectorizer.html#sklearn.feature_extraction.text.CountVectorizer"
   ]
  },
  {
   "cell_type": "code",
   "execution_count": 21,
   "metadata": {
    "collapsed": true
   },
   "outputs": [],
   "source": [
    "from sklearn.feature_extraction.text import HashingVectorizer"
   ]
  },
  {
   "cell_type": "code",
   "execution_count": 22,
   "metadata": {
    "collapsed": true
   },
   "outputs": [],
   "source": [
    "#vectorizer = HashingVectorizer(n_features=1)\n",
    "vectorizer = HashingVectorizer(n_features=2)\n",
    "#vectorizer = HashingVectorizer(n_features=3)\n",
    "#vectorizer = HashingVectorizer(n_features=4)\n",
    "#vectorizer = HashingVectorizer(n_features=5)\n",
    "#vectorizer = HashingVectorizer(n_features=6)"
   ]
  },
  {
   "cell_type": "code",
   "execution_count": 23,
   "metadata": {
    "collapsed": true
   },
   "outputs": [],
   "source": [
    "vect = vectorizer.transform(corpus)"
   ]
  },
  {
   "cell_type": "code",
   "execution_count": 24,
   "metadata": {},
   "outputs": [
    {
     "name": "stdout",
     "output_type": "stream",
     "text": [
      "[[ 0.98776297  0.15596257]\n",
      " [-0.31130813  0.95030903]\n",
      " [ 0.98058068  0.19611614]\n",
      " [ 0.83205029  0.5547002 ]\n",
      " [ 0.98994949  0.14142136]\n",
      " [ 0.69047575  0.72335554]\n",
      " [-0.47058824  0.88235294]\n",
      " [-0.17888544  0.98386991]\n",
      " [ 0.73480344  0.6782801 ]\n",
      " [-0.96152395 -0.27472113]]\n"
     ]
    }
   ],
   "source": [
    "print(vect.toarray())"
   ]
  },
  {
   "cell_type": "code",
   "execution_count": 25,
   "metadata": {},
   "outputs": [
    {
     "data": {
      "text/plain": [
       "(10, 2)"
      ]
     },
     "execution_count": 25,
     "metadata": {},
     "output_type": "execute_result"
    }
   ],
   "source": [
    "a=vect.toarray()\n",
    "a.shape"
   ]
  },
  {
   "cell_type": "markdown",
   "metadata": {},
   "source": [
    "* When n = 2, HashingVectorizer returns a (10,2) matrix.\n",
    "* When n = 3, (10,3)\n",
    "* etc...\n",
    "\n",
    "HashingVectorizer will return a (10,n) matrix. \n",
    "\n",
    "\"Convert a collection of text documents to a matrix of token occurrences\n",
    "\n",
    "It turns a collection of text documents into a scipy.sparse matrix holding token occurrence counts (or binary occurrence information), possibly normalized as token frequencies if norm=’l1’ or projected on the euclidean unit sphere if norm=’l2’.\n",
    "\n",
    "This text vectorizer implementation uses the hashing trick to find the token string name to feature integer index mapping.\"\n",
    "\n",
    "Source: http://scikit-learn.org/stable/modules/generated/sklearn.feature_extraction.text.HashingVectorizer.html\n",
    "\n"
   ]
  },
  {
   "cell_type": "markdown",
   "metadata": {},
   "source": [
    "# Part II"
   ]
  },
  {
   "cell_type": "markdown",
   "metadata": {},
   "source": [
    "### Further read about the speech-to-text services from the four vendors (Microsoft, Amazon, Google, IBM) and write key 3-4 features about each service"
   ]
  },
  {
   "cell_type": "markdown",
   "metadata": {},
   "source": [
    "#### Microsoft"
   ]
  },
  {
   "cell_type": "markdown",
   "metadata": {},
   "source": [
    "Microsoft's speech-to-text service is deployed via the Azure Machine Learning Studio (Microsoft's commercial Data Science tool for building and deploying Machine Learning models).  \n",
    "According to the website, the \"Microsoft speech recognition API transcribes audio streams into text\" which you can either display or utilize as an input.  There are several use cases for their 2 options (REST API vs. Client Library) laid out on the website.\n",
    "\n",
    "Both options allow for the unbroken conversion of short spoken audio (such as clips less than 15 seconds long).  The Client Library goes several steps further than the REST API option, and also allows for the conversion of longer audio clips (greater than 15 seconds), streaming of audio with \"interim results desired\", and analysis of the text converted from audio using their service \"LUIS\".\n",
    "\n",
    "Also according to the website's overview, Microsoft provides numerous support services regardless of the approach chose, such as speech recognition technologies already existing for various Microsoft platforms (window's Cortana, for instance), real time continuous recognition, multiple languages/dialects, and the ability to interpret spoken work/converted text by extracting intents, entities, etc."
   ]
  },
  {
   "cell_type": "markdown",
   "metadata": {},
   "source": [
    "Source: https://docs.microsoft.com/en-us/azure/cognitive-services/speech/home"
   ]
  },
  {
   "cell_type": "markdown",
   "metadata": {},
   "source": [
    "#### Amazon"
   ]
  },
  {
   "cell_type": "markdown",
   "metadata": {},
   "source": [
    "Amazon's speech-to-text service is called Transcribe, and boasts \"accurate speech to text at scale\".   Audio files can be stored in the Amazon storage service S3 in several common formats (MP3, WAV, etc.).  \n",
    "\n",
    "The service also provides word-specific timestamps alongside its transcription, and also infers punctuation. The service allows for transcription in English or Spanish.\n",
    "\n",
    "The site lists the following key features:\n",
    "* Simple-to-use API\n",
    "* Easy-to-read instructions\n",
    "* Timestamp generation\n",
    "* Support for a Wide Range of Use Cases (e.g. improving customer service, captioning/subtitling, cataloguing audio archives)\n",
    "* Custom Vocabulary (product names, domain-specific terminology, indiviudal's names)\n",
    "* Recognize multiple speakers"
   ]
  },
  {
   "cell_type": "markdown",
   "metadata": {},
   "source": [
    "Sources: \n",
    "\n",
    "https://aws.amazon.com/transcribe/\n",
    "\n",
    "https://aws.amazon.com/blogs/aws/amazon-transcribe-scalable-and-accurate-automatic-speech-recognition/"
   ]
  },
  {
   "cell_type": "markdown",
   "metadata": {},
   "source": [
    "#### Google"
   ]
  },
  {
   "cell_type": "markdown",
   "metadata": {},
   "source": [
    "Google's speech-to-text service is called Cloud Speech-to-Text.  The website boasts about its easy-to-use API which runs on \"powerful neural network models\", and which supports 120 languages and dialogues. \n",
    "\n",
    "Similar to the Azure service, Google features real-time streaming of text results.  It has several pre-built models which can be tailored to specific use cases.\n",
    "\n",
    "Google also advertises that its services will automatically transcribe proper nouns, format dates/phone-numbers/times, etc.  Its software can handle noisy environments where sound quality isn't very clear. Amusingly, it also has the functionality to filter for inappropriate content."
   ]
  },
  {
   "cell_type": "markdown",
   "metadata": {},
   "source": [
    "Source: https://cloud.google.com/speech-to-text/"
   ]
  },
  {
   "cell_type": "markdown",
   "metadata": {},
   "source": [
    "#### IBM"
   ]
  },
  {
   "cell_type": "markdown",
   "metadata": {},
   "source": [
    "IBM's speech-to-text service is called Watson Speech to Text.  It advertises similar features to the other cloud computing services, and specific lays out several use cases:\n",
    "* Transform your call center\n",
    "* Build a chatbot\n",
    "* Create an insight engine\n",
    "* Sales intelligence\n",
    "\n",
    "It accepts several common input features, including Audio formats, languages & models, and audio transmissions (as much as 100MB of audo as a continuous stream of data chunks or one-shot delivery).\n",
    "\n",
    "It outputs numerous features, such as speaker labels, keyword spotting, word alternatives and word confidence (confidence levels for each of the transcribed words), profanity filters (like Google), and smart formatting.\n",
    "\n",
    "It appears that Watson only support 9 languages at this time."
   ]
  },
  {
   "cell_type": "markdown",
   "metadata": {},
   "source": [
    "Source: https://www.ibm.com/watson/services/speech-to-text/"
   ]
  },
  {
   "cell_type": "markdown",
   "metadata": {},
   "source": [
    "Several bloggers have taken it upon themselves to conduct comparisons of the speech to text options available.  The quote below comes from such an analysis that was conducted in 2017 and compared Google's services to IBM.\n",
    "\n",
    "\"Looking at the shorter cuts, the Google Speech API has its moments where a good result is achieved, but mostly at the cost of high latency. Watson STT brings an opposite view towards this, having very low latency at the cost of a poor prediction accuracy.\" \n",
    "\n",
    "https://blog.craftworkz.co/speech-recognition-a-comparison-of-popular-services-in-en-and-nl-67a3e1b0cee6"
   ]
  }
 ],
 "metadata": {
  "kernelspec": {
   "display_name": "Python 3",
   "language": "python",
   "name": "python3"
  },
  "language_info": {
   "codemirror_mode": {
    "name": "ipython",
    "version": 3
   },
   "file_extension": ".py",
   "mimetype": "text/x-python",
   "name": "python",
   "nbconvert_exporter": "python",
   "pygments_lexer": "ipython3",
   "version": "3.6.3"
  }
 },
 "nbformat": 4,
 "nbformat_minor": 2
}
